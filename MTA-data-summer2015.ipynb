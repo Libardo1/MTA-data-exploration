{
 "cells": [
  {
   "cell_type": "code",
   "execution_count": 39,
   "metadata": {
    "collapsed": false
   },
   "outputs": [],
   "source": [
    "import pandas as pd\n",
    "import numpy as np\n",
    "import collections as coll\n",
    "import urllib as ulib\n",
    "import datetime as date\n",
    "from pprint import pprint\n",
    "import re"
   ]
  },
  {
   "cell_type": "code",
   "execution_count": 47,
   "metadata": {
    "collapsed": true
   },
   "outputs": [],
   "source": [
    "pd.DataFrame.to_csv?"
   ]
  },
  {
   "cell_type": "code",
   "execution_count": 49,
   "metadata": {
    "collapsed": false
   },
   "outputs": [],
   "source": [
    "df = pd.DataFrame({})\n",
    "\n",
    "url = \"http://web.mta.info/developers/data/nyct/turnstile/turnstile_150704.txt\"\n",
    "\n",
    "resp = ulib.urlopen(url)\n",
    "\n",
    "df = pd.read_csv(resp)\n",
    "\n",
    "resp.close()\n",
    "\n",
    "pd.DataFrame.to_csv(df, '/Users/ash/ds/projects/data/mta/temp.csv')\n",
    "\n",
    "\n"
   ]
  },
  {
   "cell_type": "code",
   "execution_count": null,
   "metadata": {
    "collapsed": true
   },
   "outputs": [],
   "source": [
    "def getData():\n",
    "    #create filename url list\n",
    "    startdt = date.date(15,7,4)\n",
    "    uri = \"http://web.mta.info/developers/data/nyct/turnstile/turnstile_\"\n",
    "    urllist = [re.sub(\"-\",\"\",uri+str(startdt + date.timedelta(days=i))[2:]+str('.txt')) for i in np.arange(0,90,7)]\n",
    "    \n",
    "    #download from first url with header\n",
    "    response = ulib.urlopen(urllist[0])\n",
    "    df = pd.read_csv(response)\n",
    "    response.close()\n",
    "    \n",
    "    #download from remaining urls and concatenate without header to dataframe\n",
    "    for url in urllist[1:]:\n",
    "        response = ulib.urlopen(url)\n",
    "        df = pd.concat(df, pd.read_csv(response, skiprows=1))\n",
    "        response.close()\n",
    "    \n",
    "    pd.DataFrame.to_csv(df, 'Users/ash/ds/projects/data/mta/mta-turnstile-summer2015data.csv')\n",
    "        \n",
    "            \n",
    "    \n",
    "    "
   ]
  }
 ],
 "metadata": {
  "kernelspec": {
   "display_name": "Python 2",
   "language": "python",
   "name": "python2"
  },
  "language_info": {
   "codemirror_mode": {
    "name": "ipython",
    "version": 2
   },
   "file_extension": ".py",
   "mimetype": "text/x-python",
   "name": "python",
   "nbconvert_exporter": "python",
   "pygments_lexer": "ipython2",
   "version": "2.7.11"
  }
 },
 "nbformat": 4,
 "nbformat_minor": 0
}
