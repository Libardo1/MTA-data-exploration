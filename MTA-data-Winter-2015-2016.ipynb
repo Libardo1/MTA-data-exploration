{
 "cells": [
  {
   "cell_type": "markdown",
   "metadata": {},
   "source": [
    "# Winter 2015-16\n",
    "12/22/2015 - 3/20/2016"
   ]
  },
  {
   "cell_type": "code",
   "execution_count": 171,
   "metadata": {
    "collapsed": false
   },
   "outputs": [],
   "source": [
    "from __future__ import print_function\n",
    "\n",
    "import random\n",
    "import pandas as pd\n",
    "import seaborn as sns\n",
    "%matplotlib inline\n",
    "import matplotlib.pyplot as plt"
   ]
  },
  {
   "cell_type": "code",
   "execution_count": 172,
   "metadata": {
    "collapsed": false
   },
   "outputs": [],
   "source": [
    "week_list = ['151219','151226','160102','160109','160116','160123','160130',\n",
    "             '160206','160213','160220','160227','160305','160312','160319']\n",
    "weeks = []\n",
    "for week in week_list[:6]:\n",
    "    string = 'http://web.mta.info/developers/data/nyct/turnstile/turnstile_' + week + '.txt'\n",
    "    weeks.append(pd.read_csv(string).rename(columns=lambda x: x.strip()))\n",
    "    \n",
    "data = pd.concat(weeks)\n",
    "data = data.reset_index()"
   ]
  },
  {
   "cell_type": "code",
   "execution_count": 173,
   "metadata": {
    "collapsed": false
   },
   "outputs": [
    {
     "data": {
      "text/html": [
       "<div>\n",
       "<table border=\"1\" class=\"dataframe\">\n",
       "  <thead>\n",
       "    <tr style=\"text-align: right;\">\n",
       "      <th></th>\n",
       "      <th>index</th>\n",
       "      <th>C/A</th>\n",
       "      <th>UNIT</th>\n",
       "      <th>SCP</th>\n",
       "      <th>STATION</th>\n",
       "      <th>LINENAME</th>\n",
       "      <th>DIVISION</th>\n",
       "      <th>DATE</th>\n",
       "      <th>TIME</th>\n",
       "      <th>DESC</th>\n",
       "      <th>ENTRIES</th>\n",
       "      <th>EXITS</th>\n",
       "    </tr>\n",
       "  </thead>\n",
       "  <tbody>\n",
       "    <tr>\n",
       "      <th>0</th>\n",
       "      <td>0</td>\n",
       "      <td>A002</td>\n",
       "      <td>R051</td>\n",
       "      <td>02-00-00</td>\n",
       "      <td>LEXINGTON AVE</td>\n",
       "      <td>NQR456</td>\n",
       "      <td>BMT</td>\n",
       "      <td>12/12/2015</td>\n",
       "      <td>03:00:00</td>\n",
       "      <td>REGULAR</td>\n",
       "      <td>5448529</td>\n",
       "      <td>1839896</td>\n",
       "    </tr>\n",
       "    <tr>\n",
       "      <th>1</th>\n",
       "      <td>1</td>\n",
       "      <td>A002</td>\n",
       "      <td>R051</td>\n",
       "      <td>02-00-00</td>\n",
       "      <td>LEXINGTON AVE</td>\n",
       "      <td>NQR456</td>\n",
       "      <td>BMT</td>\n",
       "      <td>12/12/2015</td>\n",
       "      <td>07:00:00</td>\n",
       "      <td>REGULAR</td>\n",
       "      <td>5448537</td>\n",
       "      <td>1839914</td>\n",
       "    </tr>\n",
       "    <tr>\n",
       "      <th>2</th>\n",
       "      <td>2</td>\n",
       "      <td>A002</td>\n",
       "      <td>R051</td>\n",
       "      <td>02-00-00</td>\n",
       "      <td>LEXINGTON AVE</td>\n",
       "      <td>NQR456</td>\n",
       "      <td>BMT</td>\n",
       "      <td>12/12/2015</td>\n",
       "      <td>11:00:00</td>\n",
       "      <td>REGULAR</td>\n",
       "      <td>5448644</td>\n",
       "      <td>1840013</td>\n",
       "    </tr>\n",
       "    <tr>\n",
       "      <th>3</th>\n",
       "      <td>3</td>\n",
       "      <td>A002</td>\n",
       "      <td>R051</td>\n",
       "      <td>02-00-00</td>\n",
       "      <td>LEXINGTON AVE</td>\n",
       "      <td>NQR456</td>\n",
       "      <td>BMT</td>\n",
       "      <td>12/12/2015</td>\n",
       "      <td>15:00:00</td>\n",
       "      <td>REGULAR</td>\n",
       "      <td>5448889</td>\n",
       "      <td>1840103</td>\n",
       "    </tr>\n",
       "    <tr>\n",
       "      <th>4</th>\n",
       "      <td>4</td>\n",
       "      <td>A002</td>\n",
       "      <td>R051</td>\n",
       "      <td>02-00-00</td>\n",
       "      <td>LEXINGTON AVE</td>\n",
       "      <td>NQR456</td>\n",
       "      <td>BMT</td>\n",
       "      <td>12/12/2015</td>\n",
       "      <td>19:00:00</td>\n",
       "      <td>REGULAR</td>\n",
       "      <td>5449323</td>\n",
       "      <td>1840178</td>\n",
       "    </tr>\n",
       "  </tbody>\n",
       "</table>\n",
       "</div>"
      ],
      "text/plain": [
       "   index   C/A  UNIT       SCP        STATION LINENAME DIVISION        DATE  \\\n",
       "0      0  A002  R051  02-00-00  LEXINGTON AVE   NQR456      BMT  12/12/2015   \n",
       "1      1  A002  R051  02-00-00  LEXINGTON AVE   NQR456      BMT  12/12/2015   \n",
       "2      2  A002  R051  02-00-00  LEXINGTON AVE   NQR456      BMT  12/12/2015   \n",
       "3      3  A002  R051  02-00-00  LEXINGTON AVE   NQR456      BMT  12/12/2015   \n",
       "4      4  A002  R051  02-00-00  LEXINGTON AVE   NQR456      BMT  12/12/2015   \n",
       "\n",
       "       TIME     DESC  ENTRIES    EXITS  \n",
       "0  03:00:00  REGULAR  5448529  1839896  \n",
       "1  07:00:00  REGULAR  5448537  1839914  \n",
       "2  11:00:00  REGULAR  5448644  1840013  \n",
       "3  15:00:00  REGULAR  5448889  1840103  \n",
       "4  19:00:00  REGULAR  5449323  1840178  "
      ]
     },
     "execution_count": 173,
     "metadata": {},
     "output_type": "execute_result"
    }
   ],
   "source": [
    "data.head()"
   ]
  },
  {
   "cell_type": "code",
   "execution_count": 174,
   "metadata": {
    "collapsed": false
   },
   "outputs": [],
   "source": [
    "data['DATETIME'] = pd.to_datetime(data.DATE + data.TIME, format='%m/%d/%Y%H:%M:%S')"
   ]
  },
  {
   "cell_type": "markdown",
   "metadata": {},
   "source": [
    "PERIOD is a variable that splits the day into 6 distinct sections. This is to account for the differences in times that the counts are recorded."
   ]
  },
  {
   "cell_type": "code",
   "execution_count": 175,
   "metadata": {
    "collapsed": false
   },
   "outputs": [],
   "source": [
    "data['HOUR'] = data.DATETIME.map(lambda x: x.hour)\n",
    "data['PERIOD'] = data.HOUR // 4"
   ]
  },
  {
   "cell_type": "code",
   "execution_count": 176,
   "metadata": {
    "collapsed": false
   },
   "outputs": [],
   "source": [
    "data['dENTRIES'] = data.groupby(['C/A','UNIT','SCP','STATION']).ENTRIES.diff()\n",
    "data['dEXITS'] = data.groupby(['C/A','UNIT','SCP','STATION']).EXITS.diff()"
   ]
  },
  {
   "cell_type": "code",
   "execution_count": 177,
   "metadata": {
    "collapsed": false
   },
   "outputs": [
    {
     "data": {
      "text/html": [
       "<div>\n",
       "<table border=\"1\" class=\"dataframe\">\n",
       "  <thead>\n",
       "    <tr style=\"text-align: right;\">\n",
       "      <th></th>\n",
       "      <th>index</th>\n",
       "      <th>C/A</th>\n",
       "      <th>UNIT</th>\n",
       "      <th>SCP</th>\n",
       "      <th>STATION</th>\n",
       "      <th>LINENAME</th>\n",
       "      <th>DIVISION</th>\n",
       "      <th>DATE</th>\n",
       "      <th>TIME</th>\n",
       "      <th>DESC</th>\n",
       "      <th>ENTRIES</th>\n",
       "      <th>EXITS</th>\n",
       "      <th>DATETIME</th>\n",
       "      <th>HOUR</th>\n",
       "      <th>PERIOD</th>\n",
       "      <th>dENTRIES</th>\n",
       "      <th>dEXITS</th>\n",
       "      <th>FLUX</th>\n",
       "    </tr>\n",
       "  </thead>\n",
       "  <tbody>\n",
       "    <tr>\n",
       "      <th>1</th>\n",
       "      <td>1</td>\n",
       "      <td>A002</td>\n",
       "      <td>R051</td>\n",
       "      <td>02-00-00</td>\n",
       "      <td>LEXINGTON AVE</td>\n",
       "      <td>NQR456</td>\n",
       "      <td>BMT</td>\n",
       "      <td>12/12/2015</td>\n",
       "      <td>07:00:00</td>\n",
       "      <td>REGULAR</td>\n",
       "      <td>5448537</td>\n",
       "      <td>1839914</td>\n",
       "      <td>2015-12-12 07:00:00</td>\n",
       "      <td>7</td>\n",
       "      <td>1</td>\n",
       "      <td>8</td>\n",
       "      <td>18</td>\n",
       "      <td>26</td>\n",
       "    </tr>\n",
       "    <tr>\n",
       "      <th>2</th>\n",
       "      <td>2</td>\n",
       "      <td>A002</td>\n",
       "      <td>R051</td>\n",
       "      <td>02-00-00</td>\n",
       "      <td>LEXINGTON AVE</td>\n",
       "      <td>NQR456</td>\n",
       "      <td>BMT</td>\n",
       "      <td>12/12/2015</td>\n",
       "      <td>11:00:00</td>\n",
       "      <td>REGULAR</td>\n",
       "      <td>5448644</td>\n",
       "      <td>1840013</td>\n",
       "      <td>2015-12-12 11:00:00</td>\n",
       "      <td>11</td>\n",
       "      <td>2</td>\n",
       "      <td>107</td>\n",
       "      <td>99</td>\n",
       "      <td>206</td>\n",
       "    </tr>\n",
       "    <tr>\n",
       "      <th>3</th>\n",
       "      <td>3</td>\n",
       "      <td>A002</td>\n",
       "      <td>R051</td>\n",
       "      <td>02-00-00</td>\n",
       "      <td>LEXINGTON AVE</td>\n",
       "      <td>NQR456</td>\n",
       "      <td>BMT</td>\n",
       "      <td>12/12/2015</td>\n",
       "      <td>15:00:00</td>\n",
       "      <td>REGULAR</td>\n",
       "      <td>5448889</td>\n",
       "      <td>1840103</td>\n",
       "      <td>2015-12-12 15:00:00</td>\n",
       "      <td>15</td>\n",
       "      <td>3</td>\n",
       "      <td>245</td>\n",
       "      <td>90</td>\n",
       "      <td>335</td>\n",
       "    </tr>\n",
       "    <tr>\n",
       "      <th>4</th>\n",
       "      <td>4</td>\n",
       "      <td>A002</td>\n",
       "      <td>R051</td>\n",
       "      <td>02-00-00</td>\n",
       "      <td>LEXINGTON AVE</td>\n",
       "      <td>NQR456</td>\n",
       "      <td>BMT</td>\n",
       "      <td>12/12/2015</td>\n",
       "      <td>19:00:00</td>\n",
       "      <td>REGULAR</td>\n",
       "      <td>5449323</td>\n",
       "      <td>1840178</td>\n",
       "      <td>2015-12-12 19:00:00</td>\n",
       "      <td>19</td>\n",
       "      <td>4</td>\n",
       "      <td>434</td>\n",
       "      <td>75</td>\n",
       "      <td>509</td>\n",
       "    </tr>\n",
       "    <tr>\n",
       "      <th>5</th>\n",
       "      <td>5</td>\n",
       "      <td>A002</td>\n",
       "      <td>R051</td>\n",
       "      <td>02-00-00</td>\n",
       "      <td>LEXINGTON AVE</td>\n",
       "      <td>NQR456</td>\n",
       "      <td>BMT</td>\n",
       "      <td>12/12/2015</td>\n",
       "      <td>23:00:00</td>\n",
       "      <td>REGULAR</td>\n",
       "      <td>5449643</td>\n",
       "      <td>1840212</td>\n",
       "      <td>2015-12-12 23:00:00</td>\n",
       "      <td>23</td>\n",
       "      <td>5</td>\n",
       "      <td>320</td>\n",
       "      <td>34</td>\n",
       "      <td>354</td>\n",
       "    </tr>\n",
       "  </tbody>\n",
       "</table>\n",
       "</div>"
      ],
      "text/plain": [
       "   index   C/A  UNIT       SCP        STATION LINENAME DIVISION        DATE  \\\n",
       "1      1  A002  R051  02-00-00  LEXINGTON AVE   NQR456      BMT  12/12/2015   \n",
       "2      2  A002  R051  02-00-00  LEXINGTON AVE   NQR456      BMT  12/12/2015   \n",
       "3      3  A002  R051  02-00-00  LEXINGTON AVE   NQR456      BMT  12/12/2015   \n",
       "4      4  A002  R051  02-00-00  LEXINGTON AVE   NQR456      BMT  12/12/2015   \n",
       "5      5  A002  R051  02-00-00  LEXINGTON AVE   NQR456      BMT  12/12/2015   \n",
       "\n",
       "       TIME     DESC  ENTRIES    EXITS            DATETIME  HOUR  PERIOD  \\\n",
       "1  07:00:00  REGULAR  5448537  1839914 2015-12-12 07:00:00     7       1   \n",
       "2  11:00:00  REGULAR  5448644  1840013 2015-12-12 11:00:00    11       2   \n",
       "3  15:00:00  REGULAR  5448889  1840103 2015-12-12 15:00:00    15       3   \n",
       "4  19:00:00  REGULAR  5449323  1840178 2015-12-12 19:00:00    19       4   \n",
       "5  23:00:00  REGULAR  5449643  1840212 2015-12-12 23:00:00    23       5   \n",
       "\n",
       "   dENTRIES  dEXITS  FLUX  \n",
       "1         8      18    26  \n",
       "2       107      99   206  \n",
       "3       245      90   335  \n",
       "4       434      75   509  \n",
       "5       320      34   354  "
      ]
     },
     "execution_count": 177,
     "metadata": {},
     "output_type": "execute_result"
    }
   ],
   "source": [
    "# Anything over 6000 is probably an error\n",
    "data = data[data.dENTRIES >= 0]\n",
    "data = data[data.dEXITS >= 0]\n",
    "data = data[data.dENTRIES <= 5000]\n",
    "data = data[data.dEXITS <= 5000]\n",
    "\n",
    "data['FLUX'] = data.dENTRIES + data.dEXITS\n",
    "data.head()"
   ]
  },
  {
   "cell_type": "code",
   "execution_count": 178,
   "metadata": {
    "collapsed": false
   },
   "outputs": [
    {
     "data": {
      "text/html": [
       "<div>\n",
       "<table border=\"1\" class=\"dataframe\">\n",
       "  <thead>\n",
       "    <tr style=\"text-align: right;\">\n",
       "      <th></th>\n",
       "      <th>index</th>\n",
       "      <th>ENTRIES</th>\n",
       "      <th>EXITS</th>\n",
       "      <th>HOUR</th>\n",
       "      <th>PERIOD</th>\n",
       "      <th>dENTRIES</th>\n",
       "      <th>dEXITS</th>\n",
       "      <th>FLUX</th>\n",
       "    </tr>\n",
       "  </thead>\n",
       "  <tbody>\n",
       "    <tr>\n",
       "      <th>count</th>\n",
       "      <td>1146911.000000</td>\n",
       "      <td>1.146911e+06</td>\n",
       "      <td>1.146911e+06</td>\n",
       "      <td>1146911.000000</td>\n",
       "      <td>1146911.000000</td>\n",
       "      <td>1146911.000000</td>\n",
       "      <td>1146911.000000</td>\n",
       "      <td>1146911.000000</td>\n",
       "    </tr>\n",
       "    <tr>\n",
       "      <th>mean</th>\n",
       "      <td>97120.082579</td>\n",
       "      <td>2.329257e+07</td>\n",
       "      <td>1.721601e+07</td>\n",
       "      <td>11.750907</td>\n",
       "      <td>2.504118</td>\n",
       "      <td>171.483665</td>\n",
       "      <td>130.553951</td>\n",
       "      <td>302.037616</td>\n",
       "    </tr>\n",
       "    <tr>\n",
       "      <th>std</th>\n",
       "      <td>56023.634310</td>\n",
       "      <td>1.451159e+08</td>\n",
       "      <td>1.230630e+08</td>\n",
       "      <td>6.922507</td>\n",
       "      <td>1.694025</td>\n",
       "      <td>254.489987</td>\n",
       "      <td>227.635888</td>\n",
       "      <td>388.029404</td>\n",
       "    </tr>\n",
       "    <tr>\n",
       "      <th>min</th>\n",
       "      <td>0.000000</td>\n",
       "      <td>0.000000e+00</td>\n",
       "      <td>0.000000e+00</td>\n",
       "      <td>0.000000</td>\n",
       "      <td>0.000000</td>\n",
       "      <td>0.000000</td>\n",
       "      <td>0.000000</td>\n",
       "      <td>0.000000</td>\n",
       "    </tr>\n",
       "    <tr>\n",
       "      <th>25%</th>\n",
       "      <td>48524.000000</td>\n",
       "      <td>5.574060e+05</td>\n",
       "      <td>2.898695e+05</td>\n",
       "      <td>7.000000</td>\n",
       "      <td>1.000000</td>\n",
       "      <td>12.000000</td>\n",
       "      <td>9.000000</td>\n",
       "      <td>35.000000</td>\n",
       "    </tr>\n",
       "    <tr>\n",
       "      <th>50%</th>\n",
       "      <td>97134.000000</td>\n",
       "      <td>2.434734e+06</td>\n",
       "      <td>1.428009e+06</td>\n",
       "      <td>11.000000</td>\n",
       "      <td>2.000000</td>\n",
       "      <td>73.000000</td>\n",
       "      <td>49.000000</td>\n",
       "      <td>159.000000</td>\n",
       "    </tr>\n",
       "    <tr>\n",
       "      <th>75%</th>\n",
       "      <td>145599.500000</td>\n",
       "      <td>6.180781e+06</td>\n",
       "      <td>4.375854e+06</td>\n",
       "      <td>19.000000</td>\n",
       "      <td>4.000000</td>\n",
       "      <td>230.000000</td>\n",
       "      <td>153.000000</td>\n",
       "      <td>425.000000</td>\n",
       "    </tr>\n",
       "    <tr>\n",
       "      <th>max</th>\n",
       "      <td>197665.000000</td>\n",
       "      <td>2.114548e+09</td>\n",
       "      <td>2.087387e+09</td>\n",
       "      <td>23.000000</td>\n",
       "      <td>5.000000</td>\n",
       "      <td>4034.000000</td>\n",
       "      <td>4975.000000</td>\n",
       "      <td>7047.000000</td>\n",
       "    </tr>\n",
       "  </tbody>\n",
       "</table>\n",
       "</div>"
      ],
      "text/plain": [
       "                index       ENTRIES         EXITS            HOUR  \\\n",
       "count  1146911.000000  1.146911e+06  1.146911e+06  1146911.000000   \n",
       "mean     97120.082579  2.329257e+07  1.721601e+07       11.750907   \n",
       "std      56023.634310  1.451159e+08  1.230630e+08        6.922507   \n",
       "min          0.000000  0.000000e+00  0.000000e+00        0.000000   \n",
       "25%      48524.000000  5.574060e+05  2.898695e+05        7.000000   \n",
       "50%      97134.000000  2.434734e+06  1.428009e+06       11.000000   \n",
       "75%     145599.500000  6.180781e+06  4.375854e+06       19.000000   \n",
       "max     197665.000000  2.114548e+09  2.087387e+09       23.000000   \n",
       "\n",
       "               PERIOD        dENTRIES          dEXITS            FLUX  \n",
       "count  1146911.000000  1146911.000000  1146911.000000  1146911.000000  \n",
       "mean         2.504118      171.483665      130.553951      302.037616  \n",
       "std          1.694025      254.489987      227.635888      388.029404  \n",
       "min          0.000000        0.000000        0.000000        0.000000  \n",
       "25%          1.000000       12.000000        9.000000       35.000000  \n",
       "50%          2.000000       73.000000       49.000000      159.000000  \n",
       "75%          4.000000      230.000000      153.000000      425.000000  \n",
       "max          5.000000     4034.000000     4975.000000     7047.000000  "
      ]
     },
     "execution_count": 178,
     "metadata": {},
     "output_type": "execute_result"
    }
   ],
   "source": [
    "data.describe()"
   ]
  },
  {
   "cell_type": "code",
   "execution_count": 179,
   "metadata": {
    "collapsed": false
   },
   "outputs": [
    {
     "name": "stdout",
     "output_type": "stream",
     "text": [
      "196676502.0\n",
      "149733762.0\n"
     ]
    }
   ],
   "source": [
    "# Far more entries than exits. Possibly accounted for by 'emergency exits' and/or human sacrifice\n",
    "print(sum(data.dENTRIES))\n",
    "print(sum(data.dEXITS))"
   ]
  },
  {
   "cell_type": "code",
   "execution_count": 180,
   "metadata": {
    "collapsed": false
   },
   "outputs": [
    {
     "data": {
      "text/plain": [
       "<matplotlib.axes._subplots.AxesSubplot at 0x124da4940>"
      ]
     },
     "execution_count": 180,
     "metadata": {},
     "output_type": "execute_result"
    },
    {
     "data": {
      "image/png": "[encoded data removed]",
      "text/plain": [
       "<matplotlib.figure.Figure at 0x125866e10>"
      ]
     },
     "metadata": {},
     "output_type": "display_data"
    }
   ],
   "source": [
    "times = data.groupby('PERIOD').sum()\n",
    "times.FLUX.plot()"
   ]
  },
  {
   "cell_type": "code",
   "execution_count": 198,
   "metadata": {
    "collapsed": false
   },
   "outputs": [
    {
     "data": {
      "text/plain": [
       "<matplotlib.axes._subplots.AxesSubplot at 0x128a74400>"
      ]
     },
     "execution_count": 198,
     "metadata": {},
     "output_type": "execute_result"
    },
    {
     "data": {
      "image/png": "[encoded data removed]",
      "text/plain": [
       "<matplotlib.figure.Figure at 0x128aa6f60>"
      ]
     },
     "metadata": {},
     "output_type": "display_data"
    }
   ],
   "source": [
    "times = data[data.STATION == 'SOUTH FERRY'].groupby('PERIOD').sum()\n",
    "times.FLUX.plot()"
   ]
  },
  {
   "cell_type": "code",
   "execution_count": 182,
   "metadata": {
    "collapsed": false
   },
   "outputs": [
    {
     "data": {
      "text/plain": [
       "<matplotlib.axes._subplots.AxesSubplot at 0x127468860>"
      ]
     },
     "execution_count": 182,
     "metadata": {},
     "output_type": "execute_result"
    },
    {
     "data": {
      "image/png": "[encoded data removed]",
      "text/plain": [
       "<matplotlib.figure.Figure at 0x1274a9080>"
      ]
     },
     "metadata": {},
     "output_type": "display_data"
    }
   ],
   "source": [
    "times = data[data.STATION == '34 ST-PENN STA'].groupby('PERIOD').sum()\n",
    "times.FLUX.plot()"
   ]
  },
  {
   "cell_type": "code",
   "execution_count": 190,
   "metadata": {
    "collapsed": false
   },
   "outputs": [
    {
     "data": {
      "text/plain": [
       "<matplotlib.axes._subplots.AxesSubplot at 0x127e62dd8>"
      ]
     },
     "execution_count": 190,
     "metadata": {},
     "output_type": "execute_result"
    },
    {
     "data": {
      "image/png": "[encoded data removed]",
      "text/plain": [
       "<matplotlib.figure.Figure at 0x1282b52e8>"
      ]
     },
     "metadata": {},
     "output_type": "display_data"
    }
   ],
   "source": [
    "times = data.groupby(['STATION']).sum()\n",
    "times.FLUX.sort_values(ascending=False)[:25].plot.barh()"
   ]
  },
  {
   "cell_type": "code",
   "execution_count": 184,
   "metadata": {
    "collapsed": false
   },
   "outputs": [
    {
     "data": {
      "text/plain": [
       "<matplotlib.axes._subplots.AxesSubplot at 0x1262d5550>"
      ]
     },
     "execution_count": 184,
     "metadata": {},
     "output_type": "execute_result"
    },
    {
     "data": {
      "image/png": "[encoded data removed]",
      "text/plain": [
       "<matplotlib.figure.Figure at 0x1262ddc18>"
      ]
     },
     "metadata": {},
     "output_type": "display_data"
    }
   ],
   "source": [
    "times = data.groupby(['STATION','HOUR']).median()\n",
    "times.FLUX.sort_values(ascending=False).plot.line()"
   ]
  },
  {
   "cell_type": "code",
   "execution_count": 185,
   "metadata": {
    "collapsed": false,
    "scrolled": true
   },
   "outputs": [
    {
     "data": {
      "text/plain": [
       "<matplotlib.axes._subplots.AxesSubplot at 0x1262baeb8>"
      ]
     },
     "execution_count": 185,
     "metadata": {},
     "output_type": "execute_result"
    },
    {
     "data": {
      "image/png": "[encoded data removed]",
      "text/plain": [
       "<matplotlib.figure.Figure at 0x124daa160>"
      ]
     },
     "metadata": {},
     "output_type": "display_data"
    }
   ],
   "source": [
    "times.boxplot(column='FLUX',by='PERIOD')\n",
    "plt.y_lim"
   ]
  },
  {
   "cell_type": "code",
   "execution_count": 186,
   "metadata": {
    "collapsed": false
   },
   "outputs": [
    {
     "data": {
      "text/html": [
       "<div>\n",
       "<table border=\"1\" class=\"dataframe\">\n",
       "  <thead>\n",
       "    <tr style=\"text-align: right;\">\n",
       "      <th></th>\n",
       "      <th>UNIT</th>\n",
       "      <th>C/A</th>\n",
       "      <th>STATION</th>\n",
       "      <th>DIVISION</th>\n",
       "      <th>LAT</th>\n",
       "      <th>LON</th>\n",
       "    </tr>\n",
       "  </thead>\n",
       "  <tbody>\n",
       "    <tr>\n",
       "      <th>0</th>\n",
       "      <td>R470</td>\n",
       "      <td>X002</td>\n",
       "      <td>ELTINGVILLE PK</td>\n",
       "      <td>SRT</td>\n",
       "      <td>40.544600</td>\n",
       "      <td>-74.164581</td>\n",
       "    </tr>\n",
       "    <tr>\n",
       "      <th>1</th>\n",
       "      <td>R544</td>\n",
       "      <td>PTH02</td>\n",
       "      <td>HARRISON</td>\n",
       "      <td>PTH</td>\n",
       "      <td>40.738879</td>\n",
       "      <td>-74.155533</td>\n",
       "    </tr>\n",
       "    <tr>\n",
       "      <th>2</th>\n",
       "      <td>R165</td>\n",
       "      <td>S102</td>\n",
       "      <td>TOMPKINSVILLE</td>\n",
       "      <td>SRT</td>\n",
       "      <td>40.636948</td>\n",
       "      <td>-74.074824</td>\n",
       "    </tr>\n",
       "    <tr>\n",
       "      <th>3</th>\n",
       "      <td>R070</td>\n",
       "      <td>S101</td>\n",
       "      <td>ST. GEORGE</td>\n",
       "      <td>SRT</td>\n",
       "      <td>40.643738</td>\n",
       "      <td>-74.073622</td>\n",
       "    </tr>\n",
       "    <tr>\n",
       "      <th>4</th>\n",
       "      <td>R070</td>\n",
       "      <td>S101A</td>\n",
       "      <td>ST. GEORGE</td>\n",
       "      <td>SRT</td>\n",
       "      <td>40.643738</td>\n",
       "      <td>-74.073622</td>\n",
       "    </tr>\n",
       "  </tbody>\n",
       "</table>\n",
       "</div>"
      ],
      "text/plain": [
       "   UNIT    C/A         STATION DIVISION        LAT        LON\n",
       "0  R470   X002  ELTINGVILLE PK      SRT  40.544600 -74.164581\n",
       "1  R544  PTH02        HARRISON      PTH  40.738879 -74.155533\n",
       "2  R165   S102   TOMPKINSVILLE      SRT  40.636948 -74.074824\n",
       "3  R070   S101      ST. GEORGE      SRT  40.643738 -74.073622\n",
       "4  R070  S101A      ST. GEORGE      SRT  40.643738 -74.073622"
      ]
     },
     "execution_count": 186,
     "metadata": {},
     "output_type": "execute_result"
    }
   ],
   "source": [
    "geo_names = ['UNIT','C/A','STATION','X','DIVISION','LAT','LON']\n",
    "geocodes = pd.read_csv('geocoded.csv', names = geo_names)\n",
    "geocodes = geocodes.drop('X',1)\n",
    "geocodes.head()"
   ]
  },
  {
   "cell_type": "code",
   "execution_count": 187,
   "metadata": {
    "collapsed": false
   },
   "outputs": [],
   "source": [
    "data = pd.merge(data,geocodes,how='left',on=['C/A','UNIT','STATION','DIVISION'])"
   ]
  },
  {
   "cell_type": "code",
   "execution_count": 188,
   "metadata": {
    "collapsed": false
   },
   "outputs": [
    {
     "data": {
      "text/html": [
       "<div>\n",
       "<table border=\"1\" class=\"dataframe\">\n",
       "  <thead>\n",
       "    <tr style=\"text-align: right;\">\n",
       "      <th></th>\n",
       "      <th></th>\n",
       "      <th>index</th>\n",
       "      <th>ENTRIES</th>\n",
       "      <th>EXITS</th>\n",
       "      <th>PERIOD</th>\n",
       "      <th>dENTRIES</th>\n",
       "      <th>dEXITS</th>\n",
       "      <th>FLUX</th>\n",
       "    </tr>\n",
       "    <tr>\n",
       "      <th>STATION</th>\n",
       "      <th>HOUR</th>\n",
       "      <th></th>\n",
       "      <th></th>\n",
       "      <th></th>\n",
       "      <th></th>\n",
       "      <th></th>\n",
       "      <th></th>\n",
       "      <th></th>\n",
       "    </tr>\n",
       "  </thead>\n",
       "  <tbody>\n",
       "    <tr>\n",
       "      <th rowspan=\"5\" valign=\"top\">1 AV</th>\n",
       "      <th>3</th>\n",
       "      <td>30130</td>\n",
       "      <td>6197808.0</td>\n",
       "      <td>11190655.5</td>\n",
       "      <td>0</td>\n",
       "      <td>109.5</td>\n",
       "      <td>97.5</td>\n",
       "      <td>252.5</td>\n",
       "    </tr>\n",
       "    <tr>\n",
       "      <th>7</th>\n",
       "      <td>30116</td>\n",
       "      <td>6197518.5</td>\n",
       "      <td>11189588.0</td>\n",
       "      <td>1</td>\n",
       "      <td>35.0</td>\n",
       "      <td>76.5</td>\n",
       "      <td>137.0</td>\n",
       "    </tr>\n",
       "    <tr>\n",
       "      <th>8</th>\n",
       "      <td>29600</td>\n",
       "      <td>10539998.0</td>\n",
       "      <td>11488102.0</td>\n",
       "      <td>2</td>\n",
       "      <td>240.0</td>\n",
       "      <td>127.0</td>\n",
       "      <td>263.0</td>\n",
       "    </tr>\n",
       "    <tr>\n",
       "      <th>11</th>\n",
       "      <td>30117</td>\n",
       "      <td>6197859.5</td>\n",
       "      <td>11190400.5</td>\n",
       "      <td>2</td>\n",
       "      <td>236.5</td>\n",
       "      <td>327.5</td>\n",
       "      <td>687.0</td>\n",
       "    </tr>\n",
       "    <tr>\n",
       "      <th>15</th>\n",
       "      <td>30118</td>\n",
       "      <td>6198047.5</td>\n",
       "      <td>11191060.5</td>\n",
       "      <td>3</td>\n",
       "      <td>246.5</td>\n",
       "      <td>309.0</td>\n",
       "      <td>707.5</td>\n",
       "    </tr>\n",
       "  </tbody>\n",
       "</table>\n",
       "</div>"
      ],
      "text/plain": [
       "              index     ENTRIES       EXITS  PERIOD  dENTRIES  dEXITS   FLUX\n",
       "STATION HOUR                                                                \n",
       "1 AV    3     30130   6197808.0  11190655.5       0     109.5    97.5  252.5\n",
       "        7     30116   6197518.5  11189588.0       1      35.0    76.5  137.0\n",
       "        8     29600  10539998.0  11488102.0       2     240.0   127.0  263.0\n",
       "        11    30117   6197859.5  11190400.5       2     236.5   327.5  687.0\n",
       "        15    30118   6198047.5  11191060.5       3     246.5   309.0  707.5"
      ]
     },
     "execution_count": 188,
     "metadata": {},
     "output_type": "execute_result"
    }
   ],
   "source": [
    "times.head()"
   ]
  },
  {
   "cell_type": "code",
   "execution_count": 189,
   "metadata": {
    "collapsed": false
   },
   "outputs": [
    {
     "data": {
      "text/plain": [
       "<matplotlib.text.Text at 0x127e59780>"
      ]
     },
     "execution_count": 189,
     "metadata": {},
     "output_type": "execute_result"
    },
    {
     "data": {
      "image/png": "[encoded data removed]",
      "text/plain": [
       "<matplotlib.figure.Figure at 0x127e4b588>"
      ]
     },
     "metadata": {},
     "output_type": "display_data"
    }
   ],
   "source": [
    "times = data.groupby(['STATION','HOUR']).median()\n",
    "fig, ax = plt.subplots()\n",
    "ax.scatter(times.LON,times.LAT,s=(times.FLUX)/10,c=times.PERIOD)\n",
    "ax.set_xlabel('Latitude')\n",
    "ax.set_ylabel('Longitude')"
   ]
  },
  {
   "cell_type": "code",
   "execution_count": 196,
   "metadata": {
    "collapsed": false
   },
   "outputs": [
    {
     "data": {
      "text/plain": [
       "array(['LEXINGTON AVE', '5 AVE-59 ST', '57 ST-7 AVE', '49 ST-7 AVE',\n",
       "       '42 ST-TIMES SQ', '34 ST-HERALD SQ', '28 ST-BROADWAY',\n",
       "       '23 ST-5 AVE', '14 ST-UNION SQ', \"8 ST-B'WAY NYU\",\n",
       "       \"PRINCE ST-B'WAY\", 'CANAL ST', 'CITY HALL', 'CORTLANDT ST',\n",
       "       'RECTOR ST', 'WHITEHALL ST', 'ESSEX ST', 'BOWERY', 'CHAMBERS ST',\n",
       "       'FULTON ST', 'BROAD ST', '7 AVE', 'PARK PLACE', 'BOTANIC GARDEN',\n",
       "       'PROSPECT PARK', 'PARKSIDE AVE', 'CHURCH AVE', 'BEVERLEY ROAD',\n",
       "       'CORTELYOU ROAD', 'NEWKIRK PLAZA', 'AVE H', 'AVE J', 'AVE M',\n",
       "       'KINGS HIGHWAY', 'AVE U', 'NECK ROAD', 'SHEEPSHEAD BAY',\n",
       "       'BRIGHTON BEACH', 'OCEAN PARKWAY', 'BOROUGH HALL/CT',\n",
       "       'JAY ST-METROTEC', 'DEKALB AVE', 'BARCLAYS CENTER', 'UNION ST',\n",
       "       '9 ST', 'PROSPECT AVE', '25 ST', '36 ST', '45 ST', '53 ST', '59 ST',\n",
       "       'BAY RIDGE AVE', '77 ST', '86 ST', 'BAY RIDGE-95 ST', '8 AVE',\n",
       "       'FT HAMILTON PKY', 'NEW UTRECHT AVE', '18 AVE', '20 AVE',\n",
       "       'BAY PKY-22 AVE', '9 AVE', '50 ST', '55 ST', '71 ST', '79 ST',\n",
       "       'BAY PARKWAY', '25 AVE', 'BAY 50 ST', 'STILLWELL AVE',\n",
       "       'W 8 ST-AQUARIUM', '6 AVE', '3 AVE', '1 AVE', 'BEDFORD AVE',\n",
       "       'LORIMER ST', 'GRAHAM AVE', 'GRAND ST', 'MONTROSE AVE',\n",
       "       'MORGAN AVE', 'JEFFERSON ST', 'MYRTLE AVE', 'HALSEY ST',\n",
       "       'WILSON AVE', 'BUSHWICK AVE', 'ATLANTIC AVE', 'SUTTER AVE',\n",
       "       'LIVONIA AVE', 'NEW LOTS AVE', 'EAST 105 ST', 'ROCKAWAY PKY',\n",
       "       'JFK HOWARD BCH', 'JFK JAMAICA CT1', 'MARCY AVE', 'HEWES ST',\n",
       "       'FLUSHING AVE', 'KOSCIUSZKO ST', 'GATES AVE', 'CHAUNCEY ST',\n",
       "       'ALABAMA AVE', 'VAN SICLEN AVE', 'CLEVELAND ST', 'NORWOOD AVE',\n",
       "       'CRESCENT ST', 'CYPRESS HILLS', 'ELDERTS LANE', 'FOREST PARKWAY',\n",
       "       'WOODHAVEN BLVD', '104 ST', '111 ST', '121 ST', 'CENTRAL AVE',\n",
       "       'KNICKERBOCKER', 'SENECA AVE', 'FOREST AVE', 'FRESH POND ROAD',\n",
       "       'METROPOLITAN AV', 'INWOOD-207 ST', 'DYCKMAN-200 ST', '190 ST',\n",
       "       '181 ST', '175 ST', '168 ST-BROADWAY', '163 ST-AMSTERDM', '155 ST',\n",
       "       '145 ST', '135 ST', '125 ST', '116 ST', 'CATHEDRL-110 ST', '103 ST',\n",
       "       '96 ST', '81 ST-MUSEUM', '72 ST', '59 ST-COLUMBUS',\n",
       "       '42 ST-PA BUS TE', '34 ST-PENN STA', '23 ST', '14 ST',\n",
       "       'W 4 ST-WASH SQ', 'SPRING ST', 'WORLD TRADE CTR', 'HIGH ST',\n",
       "       'HOYT/SCHERMER', 'LAFAYETTE AVE', 'CLINTON-WASH AV', 'FRANKLIN AVE',\n",
       "       'NOSTRAND AVE', 'KINGSTON-THROOP', 'UTICA AVE', 'RALPH AVE',\n",
       "       'ROCKAWAY AVE', 'BROADWAY-ENY', 'LIBERTY AVE', 'SHEPHERD AVE',\n",
       "       'EUCLID AVE', 'GRANT AVE', 'HUDSON-80 ST', 'BOYD-88 ST',\n",
       "       'ROCKAWAY BLVD', 'OXFORD-104 ST', 'GREENWOOD-111', 'LEFFERTS BLVD',\n",
       "       'AQUEDUCT-N CNDT', 'AQUEDUCT TRACK', 'HOWARD BCH-JFK',\n",
       "       'BROAD CHANNEL', 'BEACH 90 ST', 'BEACH 98 ST', 'BEACH 105 ST',\n",
       "       'ROCKAWAY PK 116', 'BEACH 67 ST', 'BEACH 60 ST', 'BEACH 44 ST',\n",
       "       'BEACH 36 ST', 'BEACH 25 ST', 'FAR ROCKAWAY', '161 ST-YANKEE',\n",
       "       '167 ST', '170 ST', '174-175 ST', 'TREMONT AVE', '182-183 ST',\n",
       "       'FORDHAM ROAD', 'KINGSBRIDGE RD', 'BEDFORD PARK BL',\n",
       "       'NORWOOD-205 ST', '7 AVE-53 ST', '5 AVE-53 ST', 'LEXINGTON-53 ST',\n",
       "       'COURT SQ-23 ST', 'QUEENS PLAZA', 'STEINWAY ST', '46 ST',\n",
       "       'NORTHERN BLVD', '65 ST', 'ROOSEVELT AVE', 'ELMHURST AVE',\n",
       "       'GRAND AV-NEWTON', '63 DR-REGO PARK', '67 AVE', 'FOREST HILLS-71',\n",
       "       '75 AVE', 'UNION TPK-KEW G', 'VAN WYCK BLVD', 'SUTPHIN BLVD',\n",
       "       'PARSONS BLVD', '169 ST', 'JAMAICA-179 ST', 'COURT SQ',\n",
       "       'VAN ALSTON-21ST', 'GREENPOINT AVE', 'NASSAU AV', 'BROADWAY',\n",
       "       'MYRTLE-WILLOUGH', 'BEDFORD/NOSTRAN', 'CLASSON AVE',\n",
       "       '47-50 ST-ROCK', '42 ST-BRYANT PK', '23 ST-6 AVE', '14 ST-6 AVE',\n",
       "       'BROADWAY/LAFAY', '2 AVE', 'DELANCEY ST', 'EAST BROADWAY',\n",
       "       'YORK ST', 'BERGEN ST', 'CARROLL ST', 'SMITH-9 ST', '4 AVE',\n",
       "       '7 AV-PARK SLOPE', '15 ST-PROSPECT', 'DITMAS AVE', 'AVE I',\n",
       "       '22 AVE-BAY PKY', 'AVE N', 'AVE P', 'AVE X', 'NEPTUNE AVE', '57 ST',\n",
       "       'ROOSEVELT IS', '21 ST', 'JAMAICA-VAN WYC', 'JAMAICA CENTER',\n",
       "       'NEWARK HW BMEBE', 'HARRISON', 'JOURNAL SQUARE', 'GROVE STREET',\n",
       "       'EXCHANGE PLACE', 'PAVONIA/NEWPORT', 'CITY / BUS', 'PATH WTC',\n",
       "       'CHRISTOPHER ST', '9TH STREET', '14TH STREET', 'TWENTY THIRD ST',\n",
       "       'THIRTY ST', 'LACKAWANNA', 'THIRTY THIRD ST', 'NEWARK BM BW',\n",
       "       'NEWARK C', 'NEWARK HM HE', 'PATH WTC 2', 'SOUTH FERRY', 'WALL ST',\n",
       "       'FRANKLIN ST', 'HOUSTON ST', '18 ST', '28 ST', '66 ST-LINCOLN',\n",
       "       '110 ST-CATHEDRL', '116 ST-COLUMBIA', '137 ST-CITY COL', '157 ST',\n",
       "       '191 ST', 'DYCKMAN ST', '207 ST', '215 ST', 'MARBLE HILL-225',\n",
       "       '231 ST', '238 ST', '242 ST', 'BOWLING GREEN', 'BROOKLYN BRIDGE',\n",
       "       'BLEECKER ST', 'ASTOR PLACE', '33 ST', '42 ST-GRD CNTRL', '51 ST',\n",
       "       '68ST-HUNTER COL', '110 ST', '138 ST-GR CONC', '149 ST-GR CONC',\n",
       "       'MT EDEN AVE', '176 ST', 'BURNSIDE AVE', '183 ST',\n",
       "       'MOSHOLU PARKWAY', 'WOODLAWN ROAD', '110 ST-CPN', '148 ST-LENOX',\n",
       "       '149 ST-3 AVE', 'JACKSON AVE', 'INTERVALE-163', 'SIMPSON ST',\n",
       "       'FREEMAN ST', '174 ST', 'E TREMONT AVE', 'E 180 ST',\n",
       "       'BRONX PARK EAST', 'PELHAM PARKWAY', 'ALLERTON AVE', 'BURKE AVE',\n",
       "       'GUN HILL ROAD', '219 ST', '225 ST', '233 ST', 'NEREID AVE',\n",
       "       'WAKEFIELD-241', '138 ST-3 AVE', 'BROOK AVE', 'CYPRESS AVE',\n",
       "       'E 143 ST', 'E 149 ST', 'LONGWOOD AVE', 'HUNTS POINT AVE',\n",
       "       'WHITLOCK AVE', 'ELDER AVE', 'MORRISON AVE', 'ST LAWRENCE AVE',\n",
       "       'E 177 ST-PARKCH', 'CASTLE HILL AVE', 'ZEREGA AVE',\n",
       "       'WESTCHESTER SQ', 'MIDDLETOWN ROAD', 'BUHRE AVE', 'PELHAM BAY PARK',\n",
       "       '5 AVE-BRYANT PK', 'VERNON/JACKSON', 'HUNTERS PT AVE',\n",
       "       'QUEENSBORO PLZ', 'BEEBE-39 AVE', 'WASHINGTON-36 A',\n",
       "       'BROADWAY-31 ST', 'GRAND-30 AVE', 'HOYT ST-ASTORIA',\n",
       "       'DITMARS BL-31 S', '33 ST/RAWSON ST', '40 ST-LOWERY ST',\n",
       "       '46 ST-BLISS ST', '52 ST-LINCOLN', '61 ST/WOODSIDE',\n",
       "       '69 ST-FISK AVE', '74 ST-BROADWAY', '82 ST-JACKSON H',\n",
       "       '90 ST-ELMHURST', 'JUNCTION BLVD', '103 ST-CORONA',\n",
       "       'METS-WILLETS PT', 'MAIN ST', '34 ST-HUDSON YD', 'CLARK ST',\n",
       "       'HOYT ST', 'NEVINS ST', 'GRAND ARMY PLAZ', 'EASTERN PKWY',\n",
       "       'KINGSTON AVE', 'CROWN HTS-UTICA', 'SARATOGA AVE', 'JUNIUS ST',\n",
       "       'PENNSYLVANIA AV', 'PRESIDENT ST', 'STERLING ST', 'WINTHROP ST',\n",
       "       'BEVERLY ROAD', 'NEWKIRK AVE', 'FLATBUSH AVE', 'MORRIS PARK',\n",
       "       'BAYCHESTER AVE', 'DYRE AVE', 'ST. GEORGE', 'TOMPKINSVILLE',\n",
       "       'RIT-MANHATTAN', 'RIT-ROOSEVELT', '5 AV/59 ST', '57 ST-7 AV',\n",
       "       '49 ST', 'TIMES SQ-42 ST', '8 ST-NYU', 'PRINCE ST',\n",
       "       'WHITEHALL S-FRY', 'DELANCEY/ESSEX', '7 AV', 'PARKSIDE AV',\n",
       "       'CHURCH AV', 'CORTELYOU RD', 'AVENUE H', 'AVENUE J', 'AVENUE M',\n",
       "       'KINGS HWY', 'AVENUE U', 'NECK RD', 'OCEAN PKWY', 'BOROUGH HALL',\n",
       "       'DEKALB AV', 'ATL AV-BARCLAY', '4AV-9 ST', 'PROSPECT AV',\n",
       "       'BAY RIDGE AV', '8 AV', 'NEW UTRECHT AV', '18 AV', '20 AV',\n",
       "       'BAY PKWY', '9 AV', '25 AV', 'CONEY IS-STILLW', '6 AV', '3 AV',\n",
       "       '1 AV', 'BEDFORD AV', 'GRAHAM AV', 'MONTROSE AV', 'MORGAN AV',\n",
       "       'MYRTLE-WYCKOFF', 'WILSON AV', 'BUSHWICK AV', 'ATLANTIC AV',\n",
       "       'SUTTER AV', 'LIVONIA AV', 'NEW LOTS', 'CANARSIE-ROCKAW',\n",
       "       'HOWARD BCH JFK', 'SUTPHIN-ARCHER', 'MARCY AV', 'FLUSHING AV',\n",
       "       'MYRTLE AV', 'GATES AV', 'ALABAMA AV', 'VAN SICLEN AV',\n",
       "       'NORWOOD AV', '75 ST-ELDERTS', '85 ST-FOREST PK', 'CENTRAL AV',\n",
       "       'FRESH POND RD', '168 ST', 'CATHEDRAL PKWY', '59 ST COLUMBUS',\n",
       "       '42 ST-PORT AUTH', 'HOYT-SCHER', 'LAFAYETTE AV', 'FRANKLIN AV',\n",
       "       'NOSTRAND AV', 'UTICA AV', 'RALPH AV', 'ROCKAWAY AV',\n",
       "       'BROADWAY JCT', 'LIBERTY AV', 'SHEPHERD AV', 'EUCLID AV',\n",
       "       'GRANT AV', '80 ST', '88 ST', 'OZONE PK LEFFRT', 'AQUEDUCT N.COND',\n",
       "       'AQUEDUCT RACETR', 'ROCKAWAY PARK B', '161/YANKEE STAD',\n",
       "       '174-175 STS', 'TREMONT AV', '182-183 STS', 'FORDHAM RD',\n",
       "       'BEDFORD PK BLVD', 'NORWOOD 205 ST', '5 AV/53 ST',\n",
       "       'LEXINGTON AV/53', 'JKSN HT-ROOSVLT', 'ELMHURST AV',\n",
       "       'GRAND-NEWTOWN', '67 AV', 'FOREST HILLS 71', '75 AV', 'KEW GARDENS',\n",
       "       'BRIARWOOD', 'JAMAICA 179 ST', 'GREENPOINT AV', 'NASSAU ST',\n",
       "       'BEDFORD-NOSTRAN', 'CLASSON AV', '47-50 STS ROCK',\n",
       "       \"B'WAY-LAFAYETTE\", '2 AV', '4 AV-9 ST', 'DITMAS AV', 'AVENUE I',\n",
       "       'AVENUE N', 'AVENUE P', 'AVENUE X', 'NEPTUNE AV', 'LEXINGTON AV/63',\n",
       "       'ROOSEVELT ISLND', '21 ST-QNSBRIDGE', 'JAMAICA VAN WK',\n",
       "       '137 ST CITY COL', 'V.CORTLANDT PK', 'ASTOR PL', 'GRD CNTRL-42 ST',\n",
       "       '68ST-HUNTER CO', '138/GRAND CONC', '149/GRAND CONC', 'MT EDEN AV',\n",
       "       'BURNSIDE AV', 'MOSHOLU PKWY', 'WOODLAWN', 'CENTRAL PK N110',\n",
       "       'HARLEM 148 ST', '3 AV-149 ST', 'JACKSON AV', 'INTERVALE AV',\n",
       "       'WEST FARMS SQ', 'PELHAM PKWY', 'ALLERTON AV', 'BURKE AV',\n",
       "       'GUN HILL RD', 'NEREID AV', 'WAKEFIELD/241', '3 AV 138 ST',\n",
       "       'BROOK AV', 'CYPRESS AV', \"E 143/ST MARY'S\", 'LONGWOOD AV',\n",
       "       'HUNTS POINT AV', 'WHITLOCK AV', 'ELDER AV', 'MORISN AV/SNDVW',\n",
       "       'ST LAWRENCE AV', 'PARKCHESTER', 'CASTLE HILL AV', 'ZEREGA AV',\n",
       "       'MIDDLETOWN RD', 'BUHRE AV', '5 AVE', 'VERNON-JACKSON',\n",
       "       'HUNTERS PT AV', '39 AV', '36 AV', '30 AV', 'ASTORIA BLVD',\n",
       "       'ASTORIA DITMARS', '33 ST-RAWSON ST', '40 ST LOWERY ST',\n",
       "       '46 ST BLISS ST', '52 ST', '61 ST WOODSIDE', '69 ST',\n",
       "       'FLUSHING-MAIN', 'EASTN PKWY-MUSM', 'KINGSTON AV',\n",
       "       'SUTTER AV-RUTLD', 'SARATOGA AV', 'NEW LOTS AV', 'BEVERLY RD',\n",
       "       'NEWKIRK AV', 'FLATBUSH AV-B.C', 'BAYCHESTER AV', 'EASTCHSTER/DYRE'], dtype=object)"
      ]
     },
     "execution_count": 196,
     "metadata": {},
     "output_type": "execute_result"
    }
   ],
   "source": [
    "data.STATION.unique()"
   ]
  },
  {
   "cell_type": "code",
   "execution_count": null,
   "metadata": {
    "collapsed": true
   },
   "outputs": [],
   "source": []
  }
 ],
 "metadata": {
  "kernelspec": {
   "display_name": "Python 3",
   "language": "python",
   "name": "python3"
  },
  "language_info": {
   "codemirror_mode": {
    "name": "ipython",
    "version": 3
   },
   "file_extension": ".py",
   "mimetype": "text/x-python",
   "name": "python",
   "nbconvert_exporter": "python",
   "pygments_lexer": "ipython3",
   "version": "3.5.1"
  }
 },
 "nbformat": 4,
 "nbformat_minor": 0
}
