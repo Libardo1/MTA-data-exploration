{
 "cells": [
  {
   "cell_type": "markdown",
   "metadata": {},
   "source": [
    "# Winter 2015-16\n",
    "12/22/2015 - 3/20/2016"
   ]
  },
  {
   "cell_type": "code",
   "execution_count": 190,
   "metadata": {
    "collapsed": false
   },
   "outputs": [],
   "source": [
    "from __future__ import print_function\n",
    "\n",
    "import random\n",
    "import pandas as pd\n",
    "import seaborn as sns\n",
    "%matplotlib inline\n",
    "import matplotlib.pyplot as plt"
   ]
  },
  {
   "cell_type": "code",
   "execution_count": 191,
   "metadata": {
    "collapsed": false
   },
   "outputs": [],
   "source": [
    "#data = pd.read_csv('http://web.mta.info/developers/data/nyct/turnstile/turnstile_151219.txt')\n",
    "#data= data.rename(columns=lambda x: x.strip())\n",
    "week_list = ['151219','151226','160102','160109','160116','160123','160130',\n",
    "             '160206','160213','160220','160227','160305','160312','160319']\n",
    "weeks = []\n",
    "for week in random.sample(week_list,4):\n",
    "    string = 'http://web.mta.info/developers/data/nyct/turnstile/turnstile_' + week + '.txt'\n",
    "    weeks.append(pd.read_csv(string).rename(columns=lambda x: x.strip()))\n",
    "    \n",
    "data = pd.concat(weeks)\n",
    "data = data.reset_index()"
   ]
  },
  {
   "cell_type": "code",
   "execution_count": 192,
   "metadata": {
    "collapsed": false
   },
   "outputs": [
    {
     "data": {
      "text/html": [
       "<div>\n",
       "<table border=\"1\" class=\"dataframe\">\n",
       "  <thead>\n",
       "    <tr style=\"text-align: right;\">\n",
       "      <th></th>\n",
       "      <th>index</th>\n",
       "      <th>C/A</th>\n",
       "      <th>UNIT</th>\n",
       "      <th>SCP</th>\n",
       "      <th>STATION</th>\n",
       "      <th>LINENAME</th>\n",
       "      <th>DIVISION</th>\n",
       "      <th>DATE</th>\n",
       "      <th>TIME</th>\n",
       "      <th>DESC</th>\n",
       "      <th>ENTRIES</th>\n",
       "      <th>EXITS</th>\n",
       "    </tr>\n",
       "  </thead>\n",
       "  <tbody>\n",
       "    <tr>\n",
       "      <th>0</th>\n",
       "      <td>0</td>\n",
       "      <td>A002</td>\n",
       "      <td>R051</td>\n",
       "      <td>02-00-00</td>\n",
       "      <td>59 ST</td>\n",
       "      <td>NQR456</td>\n",
       "      <td>BMT</td>\n",
       "      <td>02/27/2016</td>\n",
       "      <td>03:00:00</td>\n",
       "      <td>REGULAR</td>\n",
       "      <td>5562172</td>\n",
       "      <td>1877574</td>\n",
       "    </tr>\n",
       "    <tr>\n",
       "      <th>1</th>\n",
       "      <td>1</td>\n",
       "      <td>A002</td>\n",
       "      <td>R051</td>\n",
       "      <td>02-00-00</td>\n",
       "      <td>59 ST</td>\n",
       "      <td>NQR456</td>\n",
       "      <td>BMT</td>\n",
       "      <td>02/27/2016</td>\n",
       "      <td>07:00:00</td>\n",
       "      <td>REGULAR</td>\n",
       "      <td>5562184</td>\n",
       "      <td>1877586</td>\n",
       "    </tr>\n",
       "    <tr>\n",
       "      <th>2</th>\n",
       "      <td>2</td>\n",
       "      <td>A002</td>\n",
       "      <td>R051</td>\n",
       "      <td>02-00-00</td>\n",
       "      <td>59 ST</td>\n",
       "      <td>NQR456</td>\n",
       "      <td>BMT</td>\n",
       "      <td>02/27/2016</td>\n",
       "      <td>11:00:00</td>\n",
       "      <td>REGULAR</td>\n",
       "      <td>5562267</td>\n",
       "      <td>1877691</td>\n",
       "    </tr>\n",
       "    <tr>\n",
       "      <th>3</th>\n",
       "      <td>3</td>\n",
       "      <td>A002</td>\n",
       "      <td>R051</td>\n",
       "      <td>02-00-00</td>\n",
       "      <td>59 ST</td>\n",
       "      <td>NQR456</td>\n",
       "      <td>BMT</td>\n",
       "      <td>02/27/2016</td>\n",
       "      <td>15:00:00</td>\n",
       "      <td>REGULAR</td>\n",
       "      <td>5562516</td>\n",
       "      <td>1877745</td>\n",
       "    </tr>\n",
       "    <tr>\n",
       "      <th>4</th>\n",
       "      <td>4</td>\n",
       "      <td>A002</td>\n",
       "      <td>R051</td>\n",
       "      <td>02-00-00</td>\n",
       "      <td>59 ST</td>\n",
       "      <td>NQR456</td>\n",
       "      <td>BMT</td>\n",
       "      <td>02/27/2016</td>\n",
       "      <td>19:00:00</td>\n",
       "      <td>REGULAR</td>\n",
       "      <td>5562920</td>\n",
       "      <td>1877821</td>\n",
       "    </tr>\n",
       "  </tbody>\n",
       "</table>\n",
       "</div>"
      ],
      "text/plain": [
       "   index   C/A  UNIT       SCP STATION LINENAME DIVISION        DATE  \\\n",
       "0      0  A002  R051  02-00-00   59 ST   NQR456      BMT  02/27/2016   \n",
       "1      1  A002  R051  02-00-00   59 ST   NQR456      BMT  02/27/2016   \n",
       "2      2  A002  R051  02-00-00   59 ST   NQR456      BMT  02/27/2016   \n",
       "3      3  A002  R051  02-00-00   59 ST   NQR456      BMT  02/27/2016   \n",
       "4      4  A002  R051  02-00-00   59 ST   NQR456      BMT  02/27/2016   \n",
       "\n",
       "       TIME     DESC  ENTRIES    EXITS  \n",
       "0  03:00:00  REGULAR  5562172  1877574  \n",
       "1  07:00:00  REGULAR  5562184  1877586  \n",
       "2  11:00:00  REGULAR  5562267  1877691  \n",
       "3  15:00:00  REGULAR  5562516  1877745  \n",
       "4  19:00:00  REGULAR  5562920  1877821  "
      ]
     },
     "execution_count": 192,
     "metadata": {},
     "output_type": "execute_result"
    }
   ],
   "source": [
    "data.head()"
   ]
  },
  {
   "cell_type": "code",
   "execution_count": 193,
   "metadata": {
    "collapsed": false
   },
   "outputs": [],
   "source": [
    "data['DATETIME'] = pd.to_datetime(data.DATE + data.TIME, format='%m/%d/%Y%H:%M:%S')"
   ]
  },
  {
   "cell_type": "code",
   "execution_count": 194,
   "metadata": {
    "collapsed": false
   },
   "outputs": [],
   "source": [
    "data['HOUR'] = data.DATETIME.map(lambda x: x.hour)\n",
    "data['PERIOD'] = data.HOUR // 4"
   ]
  },
  {
   "cell_type": "code",
   "execution_count": 195,
   "metadata": {
    "collapsed": false
   },
   "outputs": [],
   "source": [
    "data['dENTRIES'] = data.groupby(['C/A','UNIT','SCP','STATION']).ENTRIES.diff()\n",
    "data['dEXITS'] = data.groupby(['C/A','UNIT','SCP','STATION']).EXITS.diff()"
   ]
  },
  {
   "cell_type": "code",
   "execution_count": 205,
   "metadata": {
    "collapsed": true
   },
   "outputs": [],
   "source": [
    "# Anything over 6000 is probably an error\n",
    "data = data[data.dENTRIES >= 0]\n",
    "data = data[data.dEXITS >= 0]\n",
    "data = data[data.dENTRIES <= 5000]\n",
    "data = data[data.dEXITS <= 5000]\n",
    "\n",
    "data['FLUX'] = data.dENTRIES + data.dEXITS"
   ]
  },
  {
   "cell_type": "code",
   "execution_count": 206,
   "metadata": {
    "collapsed": false
   },
   "outputs": [
    {
     "data": {
      "text/html": [
       "<div>\n",
       "<table border=\"1\" class=\"dataframe\">\n",
       "  <thead>\n",
       "    <tr style=\"text-align: right;\">\n",
       "      <th></th>\n",
       "      <th>index</th>\n",
       "      <th>ENTRIES</th>\n",
       "      <th>EXITS</th>\n",
       "      <th>HOUR</th>\n",
       "      <th>PERIOD</th>\n",
       "      <th>dENTRIES</th>\n",
       "      <th>dEXITS</th>\n",
       "      <th>FLUX</th>\n",
       "      <th>LAT</th>\n",
       "      <th>LON</th>\n",
       "    </tr>\n",
       "  </thead>\n",
       "  <tbody>\n",
       "    <tr>\n",
       "      <th>count</th>\n",
       "      <td>756490.000000</td>\n",
       "      <td>7.564900e+05</td>\n",
       "      <td>7.564900e+05</td>\n",
       "      <td>756490.000000</td>\n",
       "      <td>756490.000000</td>\n",
       "      <td>756490.00000</td>\n",
       "      <td>756490.000000</td>\n",
       "      <td>756490.000000</td>\n",
       "      <td>379834.000000</td>\n",
       "      <td>379834.000000</td>\n",
       "    </tr>\n",
       "    <tr>\n",
       "      <th>mean</th>\n",
       "      <td>97721.507898</td>\n",
       "      <td>2.382568e+07</td>\n",
       "      <td>1.746159e+07</td>\n",
       "      <td>11.680427</td>\n",
       "      <td>2.551936</td>\n",
       "      <td>181.45870</td>\n",
       "      <td>136.513658</td>\n",
       "      <td>317.972358</td>\n",
       "      <td>40.735113</td>\n",
       "      <td>-73.960191</td>\n",
       "    </tr>\n",
       "    <tr>\n",
       "      <th>std</th>\n",
       "      <td>56381.806467</td>\n",
       "      <td>1.472037e+08</td>\n",
       "      <td>1.239377e+08</td>\n",
       "      <td>6.814452</td>\n",
       "      <td>1.666976</td>\n",
       "      <td>282.60845</td>\n",
       "      <td>249.069398</td>\n",
       "      <td>432.011883</td>\n",
       "      <td>0.059835</td>\n",
       "      <td>0.061632</td>\n",
       "    </tr>\n",
       "    <tr>\n",
       "      <th>min</th>\n",
       "      <td>1.000000</td>\n",
       "      <td>0.000000e+00</td>\n",
       "      <td>0.000000e+00</td>\n",
       "      <td>0.000000</td>\n",
       "      <td>0.000000</td>\n",
       "      <td>0.00000</td>\n",
       "      <td>0.000000</td>\n",
       "      <td>0.000000</td>\n",
       "      <td>40.576152</td>\n",
       "      <td>-74.155533</td>\n",
       "    </tr>\n",
       "    <tr>\n",
       "      <th>25%</th>\n",
       "      <td>48873.250000</td>\n",
       "      <td>5.617185e+05</td>\n",
       "      <td>2.882660e+05</td>\n",
       "      <td>7.000000</td>\n",
       "      <td>1.000000</td>\n",
       "      <td>10.00000</td>\n",
       "      <td>8.000000</td>\n",
       "      <td>31.000000</td>\n",
       "      <td>40.706636</td>\n",
       "      <td>-73.998381</td>\n",
       "    </tr>\n",
       "    <tr>\n",
       "      <th>50%</th>\n",
       "      <td>97701.000000</td>\n",
       "      <td>2.466406e+06</td>\n",
       "      <td>1.446812e+06</td>\n",
       "      <td>12.000000</td>\n",
       "      <td>3.000000</td>\n",
       "      <td>74.00000</td>\n",
       "      <td>48.000000</td>\n",
       "      <td>164.000000</td>\n",
       "      <td>40.734836</td>\n",
       "      <td>-73.981826</td>\n",
       "    </tr>\n",
       "    <tr>\n",
       "      <th>75%</th>\n",
       "      <td>146471.000000</td>\n",
       "      <td>6.238789e+06</td>\n",
       "      <td>4.427676e+06</td>\n",
       "      <td>17.000000</td>\n",
       "      <td>4.000000</td>\n",
       "      <td>242.00000</td>\n",
       "      <td>159.000000</td>\n",
       "      <td>450.000000</td>\n",
       "      <td>40.757400</td>\n",
       "      <td>-73.937452</td>\n",
       "    </tr>\n",
       "    <tr>\n",
       "      <th>max</th>\n",
       "      <td>200833.000000</td>\n",
       "      <td>2.146697e+09</td>\n",
       "      <td>2.097164e+09</td>\n",
       "      <td>23.000000</td>\n",
       "      <td>5.000000</td>\n",
       "      <td>4999.00000</td>\n",
       "      <td>4999.000000</td>\n",
       "      <td>9849.000000</td>\n",
       "      <td>40.893386</td>\n",
       "      <td>-73.755383</td>\n",
       "    </tr>\n",
       "  </tbody>\n",
       "</table>\n",
       "</div>"
      ],
      "text/plain": [
       "               index       ENTRIES         EXITS           HOUR  \\\n",
       "count  756490.000000  7.564900e+05  7.564900e+05  756490.000000   \n",
       "mean    97721.507898  2.382568e+07  1.746159e+07      11.680427   \n",
       "std     56381.806467  1.472037e+08  1.239377e+08       6.814452   \n",
       "min         1.000000  0.000000e+00  0.000000e+00       0.000000   \n",
       "25%     48873.250000  5.617185e+05  2.882660e+05       7.000000   \n",
       "50%     97701.000000  2.466406e+06  1.446812e+06      12.000000   \n",
       "75%    146471.000000  6.238789e+06  4.427676e+06      17.000000   \n",
       "max    200833.000000  2.146697e+09  2.097164e+09      23.000000   \n",
       "\n",
       "              PERIOD      dENTRIES         dEXITS           FLUX  \\\n",
       "count  756490.000000  756490.00000  756490.000000  756490.000000   \n",
       "mean        2.551936     181.45870     136.513658     317.972358   \n",
       "std         1.666976     282.60845     249.069398     432.011883   \n",
       "min         0.000000       0.00000       0.000000       0.000000   \n",
       "25%         1.000000      10.00000       8.000000      31.000000   \n",
       "50%         3.000000      74.00000      48.000000     164.000000   \n",
       "75%         4.000000     242.00000     159.000000     450.000000   \n",
       "max         5.000000    4999.00000    4999.000000    9849.000000   \n",
       "\n",
       "                 LAT            LON  \n",
       "count  379834.000000  379834.000000  \n",
       "mean       40.735113     -73.960191  \n",
       "std         0.059835       0.061632  \n",
       "min        40.576152     -74.155533  \n",
       "25%        40.706636     -73.998381  \n",
       "50%        40.734836     -73.981826  \n",
       "75%        40.757400     -73.937452  \n",
       "max        40.893386     -73.755383  "
      ]
     },
     "execution_count": 206,
     "metadata": {},
     "output_type": "execute_result"
    }
   ],
   "source": [
    "data.describe()"
   ]
  },
  {
   "cell_type": "code",
   "execution_count": 210,
   "metadata": {
    "collapsed": false
   },
   "outputs": [
    {
     "data": {
      "text/plain": [
       "<matplotlib.axes._subplots.AxesSubplot at 0x15df902e8>"
      ]
     },
     "execution_count": 210,
     "metadata": {},
     "output_type": "execute_result"
    },
    {
     "data": {
      "image/png": "[encoded data removed]",
      "text/plain": [
       "<matplotlib.figure.Figure at 0x15df95208>"
      ]
     },
     "metadata": {},
     "output_type": "display_data"
    }
   ],
   "source": [
    "times = data.groupby(['STATION','HOUR']).mean()\n",
    "times.FLUX.sort_values(ascending=False)[:25].plot.barh()"
   ]
  },
  {
   "cell_type": "code",
   "execution_count": 199,
   "metadata": {
    "collapsed": false
   },
   "outputs": [
    {
     "data": {
      "text/plain": [
       "<matplotlib.axes._subplots.AxesSubplot at 0x152699208>"
      ]
     },
     "execution_count": 199,
     "metadata": {},
     "output_type": "execute_result"
    },
    {
     "data": {
      "image/png": "[encoded data removed]",
      "text/plain": [
       "<matplotlib.figure.Figure at 0x15269b8d0>"
      ]
     },
     "metadata": {},
     "output_type": "display_data"
    }
   ],
   "source": [
    "times = data.groupby(['STATION','HOUR']).median()\n",
    "times.FLUX.sort_values(ascending=False).plot.line()"
   ]
  },
  {
   "cell_type": "code",
   "execution_count": 208,
   "metadata": {
    "collapsed": false
   },
   "outputs": [
    {
     "data": {
      "text/plain": [
       "<matplotlib.axes._subplots.AxesSubplot at 0x1520af860>"
      ]
     },
     "execution_count": 208,
     "metadata": {},
     "output_type": "execute_result"
    },
    {
     "data": {
      "image/png": "[encoded data removed]",
      "text/plain": [
       "<matplotlib.figure.Figure at 0x15de6aeb8>"
      ]
     },
     "metadata": {},
     "output_type": "display_data"
    }
   ],
   "source": [
    "times.boxplot(column='FLUX',by='PERIOD')"
   ]
  },
  {
   "cell_type": "code",
   "execution_count": 201,
   "metadata": {
    "collapsed": false,
    "scrolled": true
   },
   "outputs": [
    {
     "data": {
      "text/plain": [
       "<matplotlib.axes._subplots.AxesSubplot at 0x1c875a1d0>"
      ]
     },
     "execution_count": 201,
     "metadata": {},
     "output_type": "execute_result"
    },
    {
     "data": {
      "image/png": "[encoded data removed]",
      "text/plain": [
       "<matplotlib.figure.Figure at 0x1c8755128>"
      ]
     },
     "metadata": {},
     "output_type": "display_data"
    }
   ],
   "source": [
    "data.groupby('STATION').FLUX.median().hist()"
   ]
  },
  {
   "cell_type": "code",
   "execution_count": 202,
   "metadata": {
    "collapsed": false
   },
   "outputs": [
    {
     "data": {
      "text/html": [
       "<div>\n",
       "<table border=\"1\" class=\"dataframe\">\n",
       "  <thead>\n",
       "    <tr style=\"text-align: right;\">\n",
       "      <th></th>\n",
       "      <th>UNIT</th>\n",
       "      <th>C/A</th>\n",
       "      <th>STATION</th>\n",
       "      <th>DIVISION</th>\n",
       "      <th>LAT</th>\n",
       "      <th>LON</th>\n",
       "    </tr>\n",
       "  </thead>\n",
       "  <tbody>\n",
       "    <tr>\n",
       "      <th>0</th>\n",
       "      <td>R470</td>\n",
       "      <td>X002</td>\n",
       "      <td>ELTINGVILLE PK</td>\n",
       "      <td>SRT</td>\n",
       "      <td>40.544600</td>\n",
       "      <td>-74.164581</td>\n",
       "    </tr>\n",
       "    <tr>\n",
       "      <th>1</th>\n",
       "      <td>R544</td>\n",
       "      <td>PTH02</td>\n",
       "      <td>HARRISON</td>\n",
       "      <td>PTH</td>\n",
       "      <td>40.738879</td>\n",
       "      <td>-74.155533</td>\n",
       "    </tr>\n",
       "    <tr>\n",
       "      <th>2</th>\n",
       "      <td>R165</td>\n",
       "      <td>S102</td>\n",
       "      <td>TOMPKINSVILLE</td>\n",
       "      <td>SRT</td>\n",
       "      <td>40.636948</td>\n",
       "      <td>-74.074824</td>\n",
       "    </tr>\n",
       "    <tr>\n",
       "      <th>3</th>\n",
       "      <td>R070</td>\n",
       "      <td>S101</td>\n",
       "      <td>ST. GEORGE</td>\n",
       "      <td>SRT</td>\n",
       "      <td>40.643738</td>\n",
       "      <td>-74.073622</td>\n",
       "    </tr>\n",
       "    <tr>\n",
       "      <th>4</th>\n",
       "      <td>R070</td>\n",
       "      <td>S101A</td>\n",
       "      <td>ST. GEORGE</td>\n",
       "      <td>SRT</td>\n",
       "      <td>40.643738</td>\n",
       "      <td>-74.073622</td>\n",
       "    </tr>\n",
       "  </tbody>\n",
       "</table>\n",
       "</div>"
      ],
      "text/plain": [
       "   UNIT    C/A         STATION DIVISION        LAT        LON\n",
       "0  R470   X002  ELTINGVILLE PK      SRT  40.544600 -74.164581\n",
       "1  R544  PTH02        HARRISON      PTH  40.738879 -74.155533\n",
       "2  R165   S102   TOMPKINSVILLE      SRT  40.636948 -74.074824\n",
       "3  R070   S101      ST. GEORGE      SRT  40.643738 -74.073622\n",
       "4  R070  S101A      ST. GEORGE      SRT  40.643738 -74.073622"
      ]
     },
     "execution_count": 202,
     "metadata": {},
     "output_type": "execute_result"
    }
   ],
   "source": [
    "geo_names = ['UNIT','C/A','STATION','X','DIVISION','LAT','LON']\n",
    "geocodes = pd.read_csv('geocoded.csv', names = geo_names)\n",
    "geocodes = geocodes.drop('X',1)\n",
    "geocodes.head()"
   ]
  },
  {
   "cell_type": "code",
   "execution_count": 203,
   "metadata": {
    "collapsed": false
   },
   "outputs": [],
   "source": [
    "data = pd.merge(data,geocodes,how='left',on=['C/A','UNIT','STATION','DIVISION'])"
   ]
  },
  {
   "cell_type": "code",
   "execution_count": 204,
   "metadata": {
    "collapsed": false
   },
   "outputs": [
    {
     "data": {
      "text/plain": [
       "array([[        nan,         nan,   24.      ],\n",
       "       [        nan,         nan,  188.      ],\n",
       "       [        nan,         nan,  303.      ],\n",
       "       ..., \n",
       "       [ -73.954006,   40.7574  ,    0.      ],\n",
       "       [ -73.954006,   40.7574  ,    0.      ],\n",
       "       [ -73.954006,   40.7574  ,    0.      ]])"
      ]
     },
     "execution_count": 204,
     "metadata": {},
     "output_type": "execute_result"
    }
   ],
   "source": [
    "import gmaps\n",
    "\n",
    "geodata = data.as_matrix(columns=['LON','LAT','FLUX'])\n",
    "#maps = gmaps.heatmap(geodata)\n",
    "#gmaps.display(map)\n",
    "geodata"
   ]
  },
  {
   "cell_type": "code",
   "execution_count": null,
   "metadata": {
    "collapsed": true
   },
   "outputs": [],
   "source": []
  }
 ],
 "metadata": {
  "kernelspec": {
   "display_name": "Python 3",
   "language": "python",
   "name": "python3"
  },
  "language_info": {
   "codemirror_mode": {
    "name": "ipython",
    "version": 3
   },
   "file_extension": ".py",
   "mimetype": "text/x-python",
   "name": "python",
   "nbconvert_exporter": "python",
   "pygments_lexer": "ipython3",
   "version": "3.5.1"
  }
 },
 "nbformat": 4,
 "nbformat_minor": 0
}
