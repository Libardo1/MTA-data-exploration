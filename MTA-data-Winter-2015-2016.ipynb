{
 "cells": [
  {
   "cell_type": "markdown",
   "metadata": {},
   "source": [
    "# Winter 2015-16\n",
    "12/22/2015 - 3/20/2016"
   ]
  },
  {
   "cell_type": "code",
   "execution_count": 51,
   "metadata": {
    "collapsed": false
   },
   "outputs": [],
   "source": [
    "from __future__ import print_function\n",
    "\n",
    "import random\n",
    "import pandas as pd\n",
    "import seaborn as sns\n",
    "%matplotlib inline\n",
    "import matplotlib.pyplot as plt"
   ]
  },
  {
   "cell_type": "code",
   "execution_count": 52,
   "metadata": {
    "collapsed": false
   },
   "outputs": [],
   "source": [
    "week_list = ['151219','151226','160102','160109','160116','160123','160130',\n",
    "             '160206','160213','160220','160227','160305','160312','160319']\n",
    "weeks = []\n",
    "for week in random.sample(week_list,4):\n",
    "    string = 'http://web.mta.info/developers/data/nyct/turnstile/turnstile_' + week + '.txt'\n",
    "    weeks.append(pd.read_csv(string).rename(columns=lambda x: x.strip()))\n",
    "    \n",
    "data = pd.concat(weeks)\n",
    "data = data.reset_index()"
   ]
  },
  {
   "cell_type": "code",
   "execution_count": 53,
   "metadata": {
    "collapsed": false
   },
   "outputs": [
    {
     "data": {
      "text/html": [
       "<div>\n",
       "<table border=\"1\" class=\"dataframe\">\n",
       "  <thead>\n",
       "    <tr style=\"text-align: right;\">\n",
       "      <th></th>\n",
       "      <th>index</th>\n",
       "      <th>C/A</th>\n",
       "      <th>UNIT</th>\n",
       "      <th>SCP</th>\n",
       "      <th>STATION</th>\n",
       "      <th>LINENAME</th>\n",
       "      <th>DIVISION</th>\n",
       "      <th>DATE</th>\n",
       "      <th>TIME</th>\n",
       "      <th>DESC</th>\n",
       "      <th>ENTRIES</th>\n",
       "      <th>EXITS</th>\n",
       "    </tr>\n",
       "  </thead>\n",
       "  <tbody>\n",
       "    <tr>\n",
       "      <th>0</th>\n",
       "      <td>0</td>\n",
       "      <td>A002</td>\n",
       "      <td>R051</td>\n",
       "      <td>02-00-00</td>\n",
       "      <td>59 ST</td>\n",
       "      <td>NQR456</td>\n",
       "      <td>BMT</td>\n",
       "      <td>03/12/2016</td>\n",
       "      <td>03:00:00</td>\n",
       "      <td>REGULAR</td>\n",
       "      <td>5583673</td>\n",
       "      <td>1884949</td>\n",
       "    </tr>\n",
       "    <tr>\n",
       "      <th>1</th>\n",
       "      <td>1</td>\n",
       "      <td>A002</td>\n",
       "      <td>R051</td>\n",
       "      <td>02-00-00</td>\n",
       "      <td>59 ST</td>\n",
       "      <td>NQR456</td>\n",
       "      <td>BMT</td>\n",
       "      <td>03/12/2016</td>\n",
       "      <td>07:00:00</td>\n",
       "      <td>REGULAR</td>\n",
       "      <td>5583689</td>\n",
       "      <td>1884968</td>\n",
       "    </tr>\n",
       "    <tr>\n",
       "      <th>2</th>\n",
       "      <td>2</td>\n",
       "      <td>A002</td>\n",
       "      <td>R051</td>\n",
       "      <td>02-00-00</td>\n",
       "      <td>59 ST</td>\n",
       "      <td>NQR456</td>\n",
       "      <td>BMT</td>\n",
       "      <td>03/12/2016</td>\n",
       "      <td>11:00:00</td>\n",
       "      <td>REGULAR</td>\n",
       "      <td>5583785</td>\n",
       "      <td>1885067</td>\n",
       "    </tr>\n",
       "    <tr>\n",
       "      <th>3</th>\n",
       "      <td>3</td>\n",
       "      <td>A002</td>\n",
       "      <td>R051</td>\n",
       "      <td>02-00-00</td>\n",
       "      <td>59 ST</td>\n",
       "      <td>NQR456</td>\n",
       "      <td>BMT</td>\n",
       "      <td>03/12/2016</td>\n",
       "      <td>15:00:00</td>\n",
       "      <td>REGULAR</td>\n",
       "      <td>5584037</td>\n",
       "      <td>1885157</td>\n",
       "    </tr>\n",
       "    <tr>\n",
       "      <th>4</th>\n",
       "      <td>4</td>\n",
       "      <td>A002</td>\n",
       "      <td>R051</td>\n",
       "      <td>02-00-00</td>\n",
       "      <td>59 ST</td>\n",
       "      <td>NQR456</td>\n",
       "      <td>BMT</td>\n",
       "      <td>03/12/2016</td>\n",
       "      <td>19:00:00</td>\n",
       "      <td>REGULAR</td>\n",
       "      <td>5584482</td>\n",
       "      <td>1885250</td>\n",
       "    </tr>\n",
       "  </tbody>\n",
       "</table>\n",
       "</div>"
      ],
      "text/plain": [
       "   index   C/A  UNIT       SCP STATION LINENAME DIVISION        DATE  \\\n",
       "0      0  A002  R051  02-00-00   59 ST   NQR456      BMT  03/12/2016   \n",
       "1      1  A002  R051  02-00-00   59 ST   NQR456      BMT  03/12/2016   \n",
       "2      2  A002  R051  02-00-00   59 ST   NQR456      BMT  03/12/2016   \n",
       "3      3  A002  R051  02-00-00   59 ST   NQR456      BMT  03/12/2016   \n",
       "4      4  A002  R051  02-00-00   59 ST   NQR456      BMT  03/12/2016   \n",
       "\n",
       "       TIME     DESC  ENTRIES    EXITS  \n",
       "0  03:00:00  REGULAR  5583673  1884949  \n",
       "1  07:00:00  REGULAR  5583689  1884968  \n",
       "2  11:00:00  REGULAR  5583785  1885067  \n",
       "3  15:00:00  REGULAR  5584037  1885157  \n",
       "4  19:00:00  REGULAR  5584482  1885250  "
      ]
     },
     "execution_count": 53,
     "metadata": {},
     "output_type": "execute_result"
    }
   ],
   "source": [
    "data.head()"
   ]
  },
  {
   "cell_type": "code",
   "execution_count": 54,
   "metadata": {
    "collapsed": false
   },
   "outputs": [],
   "source": [
    "data['DATETIME'] = pd.to_datetime(data.DATE + data.TIME, format='%m/%d/%Y%H:%M:%S')"
   ]
  },
  {
   "cell_type": "markdown",
   "metadata": {},
   "source": [
    "PERIOD is a variable that splits the day into 6 distinct sections. This is to account for the differences in times that the counts are recorded."
   ]
  },
  {
   "cell_type": "code",
   "execution_count": 55,
   "metadata": {
    "collapsed": false
   },
   "outputs": [],
   "source": [
    "data['HOUR'] = data.DATETIME.map(lambda x: x.hour)\n",
    "data['PERIOD'] = data.HOUR // 4"
   ]
  },
  {
   "cell_type": "code",
   "execution_count": 56,
   "metadata": {
    "collapsed": false
   },
   "outputs": [],
   "source": [
    "data['dENTRIES'] = data.groupby(['C/A','UNIT','SCP','STATION']).ENTRIES.diff()\n",
    "data['dEXITS'] = data.groupby(['C/A','UNIT','SCP','STATION']).EXITS.diff()"
   ]
  },
  {
   "cell_type": "code",
   "execution_count": 57,
   "metadata": {
    "collapsed": true
   },
   "outputs": [],
   "source": [
    "# Anything over 6000 is probably an error\n",
    "data = data[data.dENTRIES >= 0]\n",
    "data = data[data.dEXITS >= 0]\n",
    "data = data[data.dENTRIES <= 5000]\n",
    "data = data[data.dEXITS <= 5000]\n",
    "\n",
    "data['FLUX'] = data.dENTRIES + data.dEXITS"
   ]
  },
  {
   "cell_type": "code",
   "execution_count": 58,
   "metadata": {
    "collapsed": false
   },
   "outputs": [
    {
     "data": {
      "text/html": [
       "<div>\n",
       "<table border=\"1\" class=\"dataframe\">\n",
       "  <thead>\n",
       "    <tr style=\"text-align: right;\">\n",
       "      <th></th>\n",
       "      <th>index</th>\n",
       "      <th>ENTRIES</th>\n",
       "      <th>EXITS</th>\n",
       "      <th>HOUR</th>\n",
       "      <th>PERIOD</th>\n",
       "      <th>dENTRIES</th>\n",
       "      <th>dEXITS</th>\n",
       "      <th>FLUX</th>\n",
       "    </tr>\n",
       "  </thead>\n",
       "  <tbody>\n",
       "    <tr>\n",
       "      <th>count</th>\n",
       "      <td>748652.000000</td>\n",
       "      <td>7.486520e+05</td>\n",
       "      <td>7.486520e+05</td>\n",
       "      <td>748652.000000</td>\n",
       "      <td>748652.000000</td>\n",
       "      <td>748652.000000</td>\n",
       "      <td>748652.000000</td>\n",
       "      <td>748652.000000</td>\n",
       "    </tr>\n",
       "    <tr>\n",
       "      <th>mean</th>\n",
       "      <td>96745.486587</td>\n",
       "      <td>2.365579e+07</td>\n",
       "      <td>1.740944e+07</td>\n",
       "      <td>11.697194</td>\n",
       "      <td>2.557001</td>\n",
       "      <td>188.103067</td>\n",
       "      <td>141.091289</td>\n",
       "      <td>329.194356</td>\n",
       "    </tr>\n",
       "    <tr>\n",
       "      <th>std</th>\n",
       "      <td>55794.958390</td>\n",
       "      <td>1.463633e+08</td>\n",
       "      <td>1.237205e+08</td>\n",
       "      <td>6.837364</td>\n",
       "      <td>1.672125</td>\n",
       "      <td>281.581987</td>\n",
       "      <td>248.421651</td>\n",
       "      <td>424.861500</td>\n",
       "    </tr>\n",
       "    <tr>\n",
       "      <th>min</th>\n",
       "      <td>1.000000</td>\n",
       "      <td>0.000000e+00</td>\n",
       "      <td>0.000000e+00</td>\n",
       "      <td>0.000000</td>\n",
       "      <td>0.000000</td>\n",
       "      <td>0.000000</td>\n",
       "      <td>0.000000</td>\n",
       "      <td>0.000000</td>\n",
       "    </tr>\n",
       "    <tr>\n",
       "      <th>25%</th>\n",
       "      <td>48374.000000</td>\n",
       "      <td>5.548380e+05</td>\n",
       "      <td>2.863025e+05</td>\n",
       "      <td>7.000000</td>\n",
       "      <td>1.000000</td>\n",
       "      <td>10.000000</td>\n",
       "      <td>8.000000</td>\n",
       "      <td>32.000000</td>\n",
       "    </tr>\n",
       "    <tr>\n",
       "      <th>50%</th>\n",
       "      <td>96756.000000</td>\n",
       "      <td>2.446814e+06</td>\n",
       "      <td>1.440294e+06</td>\n",
       "      <td>12.000000</td>\n",
       "      <td>3.000000</td>\n",
       "      <td>76.000000</td>\n",
       "      <td>50.000000</td>\n",
       "      <td>171.000000</td>\n",
       "    </tr>\n",
       "    <tr>\n",
       "      <th>75%</th>\n",
       "      <td>145055.000000</td>\n",
       "      <td>6.225964e+06</td>\n",
       "      <td>4.397877e+06</td>\n",
       "      <td>17.000000</td>\n",
       "      <td>4.000000</td>\n",
       "      <td>255.000000</td>\n",
       "      <td>166.000000</td>\n",
       "      <td>475.000000</td>\n",
       "    </tr>\n",
       "    <tr>\n",
       "      <th>max</th>\n",
       "      <td>194775.000000</td>\n",
       "      <td>2.146697e+09</td>\n",
       "      <td>2.097164e+09</td>\n",
       "      <td>23.000000</td>\n",
       "      <td>5.000000</td>\n",
       "      <td>4968.000000</td>\n",
       "      <td>4961.000000</td>\n",
       "      <td>9333.000000</td>\n",
       "    </tr>\n",
       "  </tbody>\n",
       "</table>\n",
       "</div>"
      ],
      "text/plain": [
       "               index       ENTRIES         EXITS           HOUR  \\\n",
       "count  748652.000000  7.486520e+05  7.486520e+05  748652.000000   \n",
       "mean    96745.486587  2.365579e+07  1.740944e+07      11.697194   \n",
       "std     55794.958390  1.463633e+08  1.237205e+08       6.837364   \n",
       "min         1.000000  0.000000e+00  0.000000e+00       0.000000   \n",
       "25%     48374.000000  5.548380e+05  2.863025e+05       7.000000   \n",
       "50%     96756.000000  2.446814e+06  1.440294e+06      12.000000   \n",
       "75%    145055.000000  6.225964e+06  4.397877e+06      17.000000   \n",
       "max    194775.000000  2.146697e+09  2.097164e+09      23.000000   \n",
       "\n",
       "              PERIOD       dENTRIES         dEXITS           FLUX  \n",
       "count  748652.000000  748652.000000  748652.000000  748652.000000  \n",
       "mean        2.557001     188.103067     141.091289     329.194356  \n",
       "std         1.672125     281.581987     248.421651     424.861500  \n",
       "min         0.000000       0.000000       0.000000       0.000000  \n",
       "25%         1.000000      10.000000       8.000000      32.000000  \n",
       "50%         3.000000      76.000000      50.000000     171.000000  \n",
       "75%         4.000000     255.000000     166.000000     475.000000  \n",
       "max         5.000000    4968.000000    4961.000000    9333.000000  "
      ]
     },
     "execution_count": 58,
     "metadata": {},
     "output_type": "execute_result"
    }
   ],
   "source": [
    "data.describe()"
   ]
  },
  {
   "cell_type": "code",
   "execution_count": 59,
   "metadata": {
    "collapsed": false
   },
   "outputs": [
    {
     "name": "stdout",
     "output_type": "stream",
     "text": [
      "140823737.0\n",
      "105628276.0\n"
     ]
    }
   ],
   "source": [
    "# Far more entries than exits. Possibly accounted for by 'emergency exits' and/or human sacrifice\n",
    "print(sum(data.dENTRIES))\n",
    "print(sum(data.dEXITS))"
   ]
  },
  {
   "cell_type": "code",
   "execution_count": 72,
   "metadata": {
    "collapsed": false
   },
   "outputs": [
    {
     "data": {
      "text/plain": [
       "<matplotlib.axes._subplots.AxesSubplot at 0x11f0bc6d8>"
      ]
     },
     "execution_count": 72,
     "metadata": {},
     "output_type": "execute_result"
    },
    {
     "data": {
      "image/png": "[encoded data removed]",
      "text/plain": [
       "<matplotlib.figure.Figure at 0x123aee438>"
      ]
     },
     "metadata": {},
     "output_type": "display_data"
    }
   ],
   "source": [
    "times = data.groupby('PERIOD').sum()\n",
    "times.FLUX.plot()"
   ]
  },
  {
   "cell_type": "code",
   "execution_count": 68,
   "metadata": {
    "collapsed": false
   },
   "outputs": [
    {
     "data": {
      "text/plain": [
       "<matplotlib.axes._subplots.AxesSubplot at 0x11cf64400>"
      ]
     },
     "execution_count": 68,
     "metadata": {},
     "output_type": "execute_result"
    },
    {
     "data": {
      "image/png": "[encoded data removed]",
      "text/plain": [
       "<matplotlib.figure.Figure at 0x11b5fdd68>"
      ]
     },
     "metadata": {},
     "output_type": "display_data"
    }
   ],
   "source": [
    "times = data.groupby(['STATION','PERIOD']).sum()\n",
    "times.FLUX.sort_values(ascending=False)[:25].plot.barh()"
   ]
  },
  {
   "cell_type": "code",
   "execution_count": 60,
   "metadata": {
    "collapsed": false
   },
   "outputs": [
    {
     "data": {
      "text/plain": [
       "<matplotlib.axes._subplots.AxesSubplot at 0x11f1c44e0>"
      ]
     },
     "execution_count": 60,
     "metadata": {},
     "output_type": "execute_result"
    },
    {
     "data": {
      "image/png": "[encoded data removed]",
      "text/plain": [
       "<matplotlib.figure.Figure at 0x11f3e6f28>"
      ]
     },
     "metadata": {},
     "output_type": "display_data"
    }
   ],
   "source": [
    "times = data.groupby(['STATION','HOUR']).median()\n",
    "times.FLUX.sort_values(ascending=False).plot.line()"
   ]
  },
  {
   "cell_type": "code",
   "execution_count": 61,
   "metadata": {
    "collapsed": false
   },
   "outputs": [
    {
     "data": {
      "text/plain": [
       "<matplotlib.axes._subplots.AxesSubplot at 0x11f0bc3c8>"
      ]
     },
     "execution_count": 61,
     "metadata": {},
     "output_type": "execute_result"
    },
    {
     "data": {
      "image/png": "[encoded data removed]",
      "text/plain": [
       "<matplotlib.figure.Figure at 0x11f1f63c8>"
      ]
     },
     "metadata": {},
     "output_type": "display_data"
    }
   ],
   "source": [
    "times.boxplot(column='FLUX',by='PERIOD')"
   ]
  },
  {
   "cell_type": "code",
   "execution_count": 63,
   "metadata": {
    "collapsed": false
   },
   "outputs": [
    {
     "data": {
      "text/html": [
       "<div>\n",
       "<table border=\"1\" class=\"dataframe\">\n",
       "  <thead>\n",
       "    <tr style=\"text-align: right;\">\n",
       "      <th></th>\n",
       "      <th>UNIT</th>\n",
       "      <th>C/A</th>\n",
       "      <th>STATION</th>\n",
       "      <th>DIVISION</th>\n",
       "      <th>LAT</th>\n",
       "      <th>LON</th>\n",
       "    </tr>\n",
       "  </thead>\n",
       "  <tbody>\n",
       "    <tr>\n",
       "      <th>0</th>\n",
       "      <td>R470</td>\n",
       "      <td>X002</td>\n",
       "      <td>ELTINGVILLE PK</td>\n",
       "      <td>SRT</td>\n",
       "      <td>40.544600</td>\n",
       "      <td>-74.164581</td>\n",
       "    </tr>\n",
       "    <tr>\n",
       "      <th>1</th>\n",
       "      <td>R544</td>\n",
       "      <td>PTH02</td>\n",
       "      <td>HARRISON</td>\n",
       "      <td>PTH</td>\n",
       "      <td>40.738879</td>\n",
       "      <td>-74.155533</td>\n",
       "    </tr>\n",
       "    <tr>\n",
       "      <th>2</th>\n",
       "      <td>R165</td>\n",
       "      <td>S102</td>\n",
       "      <td>TOMPKINSVILLE</td>\n",
       "      <td>SRT</td>\n",
       "      <td>40.636948</td>\n",
       "      <td>-74.074824</td>\n",
       "    </tr>\n",
       "    <tr>\n",
       "      <th>3</th>\n",
       "      <td>R070</td>\n",
       "      <td>S101</td>\n",
       "      <td>ST. GEORGE</td>\n",
       "      <td>SRT</td>\n",
       "      <td>40.643738</td>\n",
       "      <td>-74.073622</td>\n",
       "    </tr>\n",
       "    <tr>\n",
       "      <th>4</th>\n",
       "      <td>R070</td>\n",
       "      <td>S101A</td>\n",
       "      <td>ST. GEORGE</td>\n",
       "      <td>SRT</td>\n",
       "      <td>40.643738</td>\n",
       "      <td>-74.073622</td>\n",
       "    </tr>\n",
       "  </tbody>\n",
       "</table>\n",
       "</div>"
      ],
      "text/plain": [
       "   UNIT    C/A         STATION DIVISION        LAT        LON\n",
       "0  R470   X002  ELTINGVILLE PK      SRT  40.544600 -74.164581\n",
       "1  R544  PTH02        HARRISON      PTH  40.738879 -74.155533\n",
       "2  R165   S102   TOMPKINSVILLE      SRT  40.636948 -74.074824\n",
       "3  R070   S101      ST. GEORGE      SRT  40.643738 -74.073622\n",
       "4  R070  S101A      ST. GEORGE      SRT  40.643738 -74.073622"
      ]
     },
     "execution_count": 63,
     "metadata": {},
     "output_type": "execute_result"
    }
   ],
   "source": [
    "geo_names = ['UNIT','C/A','STATION','X','DIVISION','LAT','LON']\n",
    "geocodes = pd.read_csv('geocoded.csv', names = geo_names)\n",
    "geocodes = geocodes.drop('X',1)\n",
    "geocodes.head()"
   ]
  },
  {
   "cell_type": "code",
   "execution_count": 64,
   "metadata": {
    "collapsed": false
   },
   "outputs": [],
   "source": [
    "data = pd.merge(data,geocodes,how='left',on=['C/A','UNIT','STATION','DIVISION'])"
   ]
  },
  {
   "cell_type": "code",
   "execution_count": 65,
   "metadata": {
    "collapsed": false
   },
   "outputs": [
    {
     "data": {
      "text/html": [
       "<div>\n",
       "<table border=\"1\" class=\"dataframe\">\n",
       "  <thead>\n",
       "    <tr style=\"text-align: right;\">\n",
       "      <th></th>\n",
       "      <th></th>\n",
       "      <th>index</th>\n",
       "      <th>ENTRIES</th>\n",
       "      <th>EXITS</th>\n",
       "      <th>PERIOD</th>\n",
       "      <th>dENTRIES</th>\n",
       "      <th>dEXITS</th>\n",
       "      <th>FLUX</th>\n",
       "    </tr>\n",
       "    <tr>\n",
       "      <th>STATION</th>\n",
       "      <th>HOUR</th>\n",
       "      <th></th>\n",
       "      <th></th>\n",
       "      <th></th>\n",
       "      <th></th>\n",
       "      <th></th>\n",
       "      <th></th>\n",
       "      <th></th>\n",
       "    </tr>\n",
       "  </thead>\n",
       "  <tbody>\n",
       "    <tr>\n",
       "      <th rowspan=\"5\" valign=\"top\">1 AV</th>\n",
       "      <th>0</th>\n",
       "      <td>29488</td>\n",
       "      <td>7552572.0</td>\n",
       "      <td>11819860.0</td>\n",
       "      <td>0</td>\n",
       "      <td>344.0</td>\n",
       "      <td>210.0</td>\n",
       "      <td>896.0</td>\n",
       "    </tr>\n",
       "    <tr>\n",
       "      <th>3</th>\n",
       "      <td>30017</td>\n",
       "      <td>7474767.0</td>\n",
       "      <td>11606963.0</td>\n",
       "      <td>0</td>\n",
       "      <td>101.0</td>\n",
       "      <td>73.0</td>\n",
       "      <td>245.0</td>\n",
       "    </tr>\n",
       "    <tr>\n",
       "      <th>4</th>\n",
       "      <td>29486</td>\n",
       "      <td>7551791.5</td>\n",
       "      <td>11817681.5</td>\n",
       "      <td>1</td>\n",
       "      <td>53.0</td>\n",
       "      <td>17.5</td>\n",
       "      <td>118.0</td>\n",
       "    </tr>\n",
       "    <tr>\n",
       "      <th>7</th>\n",
       "      <td>29999</td>\n",
       "      <td>7472432.5</td>\n",
       "      <td>11605209.5</td>\n",
       "      <td>1</td>\n",
       "      <td>44.5</td>\n",
       "      <td>71.5</td>\n",
       "      <td>151.5</td>\n",
       "    </tr>\n",
       "    <tr>\n",
       "      <th>8</th>\n",
       "      <td>29502</td>\n",
       "      <td>7552751.0</td>\n",
       "      <td>11816408.0</td>\n",
       "      <td>2</td>\n",
       "      <td>130.0</td>\n",
       "      <td>191.0</td>\n",
       "      <td>407.0</td>\n",
       "    </tr>\n",
       "  </tbody>\n",
       "</table>\n",
       "</div>"
      ],
      "text/plain": [
       "              index    ENTRIES       EXITS  PERIOD  dENTRIES  dEXITS   FLUX\n",
       "STATION HOUR                                                               \n",
       "1 AV    0     29488  7552572.0  11819860.0       0     344.0   210.0  896.0\n",
       "        3     30017  7474767.0  11606963.0       0     101.0    73.0  245.0\n",
       "        4     29486  7551791.5  11817681.5       1      53.0    17.5  118.0\n",
       "        7     29999  7472432.5  11605209.5       1      44.5    71.5  151.5\n",
       "        8     29502  7552751.0  11816408.0       2     130.0   191.0  407.0"
      ]
     },
     "execution_count": 65,
     "metadata": {},
     "output_type": "execute_result"
    }
   ],
   "source": [
    "times.head()"
   ]
  },
  {
   "cell_type": "code",
   "execution_count": 66,
   "metadata": {
    "collapsed": false
   },
   "outputs": [
    {
     "data": {
      "text/plain": [
       "<matplotlib.text.Text at 0x11cf5e630>"
      ]
     },
     "execution_count": 66,
     "metadata": {},
     "output_type": "execute_result"
    },
    {
     "data": {
      "image/png": "[encoded data removed]",
      "text/plain": [
       "<matplotlib.figure.Figure at 0x11cf51438>"
      ]
     },
     "metadata": {},
     "output_type": "display_data"
    }
   ],
   "source": [
    "times = data.groupby(['STATION','HOUR']).median()\n",
    "fig, ax = plt.subplots()\n",
    "ax.scatter(times.LON,times.LAT,s=(times.FLUX)/10,c=times.PERIOD)\n",
    "ax.set_xlabel('Latitude')\n",
    "ax.set_ylabel('Longitude')"
   ]
  },
  {
   "cell_type": "code",
   "execution_count": 71,
   "metadata": {
    "collapsed": false
   },
   "outputs": [
    {
     "ename": "ValueError",
     "evalue": "Google Maps only support positive weights.",
     "output_type": "error",
     "traceback": [
      "\u001b[0;31m---------------------------------------------------------------------------\u001b[0m",
      "\u001b[0;31mValueError\u001b[0m                                Traceback (most recent call last)",
      "\u001b[0;32m<ipython-input-71-cadbe9470180>\u001b[0m in \u001b[0;36m<module>\u001b[0;34m()\u001b[0m\n\u001b[1;32m      2\u001b[0m \u001b[0;34m\u001b[0m\u001b[0m\n\u001b[1;32m      3\u001b[0m \u001b[0mgeodata\u001b[0m \u001b[0;34m=\u001b[0m \u001b[0mdata\u001b[0m\u001b[0;34m.\u001b[0m\u001b[0mas_matrix\u001b[0m\u001b[0;34m(\u001b[0m\u001b[0mcolumns\u001b[0m\u001b[0;34m=\u001b[0m\u001b[0;34m[\u001b[0m\u001b[0;34m'LON'\u001b[0m\u001b[0;34m,\u001b[0m\u001b[0;34m'LAT'\u001b[0m\u001b[0;34m,\u001b[0m\u001b[0;34m'FLUX'\u001b[0m\u001b[0;34m]\u001b[0m\u001b[0;34m)\u001b[0m\u001b[0;34m\u001b[0m\u001b[0m\n\u001b[0;32m----> 4\u001b[0;31m \u001b[0mmaps\u001b[0m \u001b[0;34m=\u001b[0m \u001b[0mgmaps\u001b[0m\u001b[0;34m.\u001b[0m\u001b[0mheatmap\u001b[0m\u001b[0;34m(\u001b[0m\u001b[0mgeodata\u001b[0m\u001b[0;34m)\u001b[0m\u001b[0;34m\u001b[0m\u001b[0m\n\u001b[0m\u001b[1;32m      5\u001b[0m \u001b[0mgmaps\u001b[0m\u001b[0;34m.\u001b[0m\u001b[0mdisplay\u001b[0m\u001b[0;34m(\u001b[0m\u001b[0mmaps\u001b[0m\u001b[0;34m)\u001b[0m\u001b[0;34m\u001b[0m\u001b[0m\n\u001b[1;32m      6\u001b[0m \u001b[0mgeodata\u001b[0m\u001b[0;34m\u001b[0m\u001b[0m\n",
      "\u001b[0;32m//anaconda/lib/python3.5/site-packages/gmaps/heatmap.py\u001b[0m in \u001b[0;36mheatmap\u001b[0;34m(data, height, width, max_intensity, point_radius)\u001b[0m\n\u001b[1;32m    125\u001b[0m         \u001b[0;31m# Not a Numpy Array.\u001b[0m\u001b[0;34m\u001b[0m\u001b[0;34m\u001b[0m\u001b[0m\n\u001b[1;32m    126\u001b[0m         \u001b[0;32mpass\u001b[0m\u001b[0;34m\u001b[0m\u001b[0m\n\u001b[0;32m--> 127\u001b[0;31m     \u001b[0mw\u001b[0m \u001b[0;34m=\u001b[0m \u001b[0mHeatmapWidget\u001b[0m\u001b[0;34m(\u001b[0m\u001b[0mdata\u001b[0m\u001b[0;34m,\u001b[0m \u001b[0mheight\u001b[0m\u001b[0;34m,\u001b[0m \u001b[0mwidth\u001b[0m\u001b[0;34m,\u001b[0m \u001b[0mmax_intensity\u001b[0m\u001b[0;34m,\u001b[0m \u001b[0mpoint_radius\u001b[0m\u001b[0;34m)\u001b[0m\u001b[0;34m\u001b[0m\u001b[0m\n\u001b[0m\u001b[1;32m    128\u001b[0m     \u001b[0;32mreturn\u001b[0m \u001b[0mw\u001b[0m\u001b[0;34m\u001b[0m\u001b[0m\n",
      "\u001b[0;32m//anaconda/lib/python3.5/site-packages/gmaps/heatmap.py\u001b[0m in \u001b[0;36m__init__\u001b[0;34m(self, data, height, width, max_intensity, point_radius)\u001b[0m\n\u001b[1;32m     20\u001b[0m         \u001b[0mself\u001b[0m\u001b[0;34m.\u001b[0m\u001b[0m_check_data_weighted\u001b[0m\u001b[0;34m(\u001b[0m\u001b[0mdata\u001b[0m\u001b[0;34m)\u001b[0m\u001b[0;34m\u001b[0m\u001b[0m\n\u001b[1;32m     21\u001b[0m         \u001b[0;32mif\u001b[0m \u001b[0mself\u001b[0m\u001b[0;34m.\u001b[0m\u001b[0m_is_weighted\u001b[0m\u001b[0;34m:\u001b[0m\u001b[0;34m\u001b[0m\u001b[0m\n\u001b[0;32m---> 22\u001b[0;31m             \u001b[0mself\u001b[0m\u001b[0;34m.\u001b[0m\u001b[0m_check_weights_positive\u001b[0m\u001b[0;34m(\u001b[0m\u001b[0mdata\u001b[0m\u001b[0;34m)\u001b[0m\u001b[0;34m\u001b[0m\u001b[0m\n\u001b[0m\u001b[1;32m     23\u001b[0m         \u001b[0mself\u001b[0m\u001b[0;34m.\u001b[0m\u001b[0m_data\u001b[0m \u001b[0;34m=\u001b[0m \u001b[0mdata\u001b[0m\u001b[0;34m\u001b[0m\u001b[0m\n\u001b[1;32m     24\u001b[0m         \u001b[0mself\u001b[0m\u001b[0;34m.\u001b[0m\u001b[0mheight\u001b[0m \u001b[0;34m=\u001b[0m \u001b[0mheight\u001b[0m\u001b[0;34m\u001b[0m\u001b[0m\n",
      "\u001b[0;32m//anaconda/lib/python3.5/site-packages/gmaps/heatmap.py\u001b[0m in \u001b[0;36m_check_weights_positive\u001b[0;34m(self, data)\u001b[0m\n\u001b[1;32m     47\u001b[0m         \u001b[0;32mfor\u001b[0m \u001b[0;34m(\u001b[0m\u001b[0mlatitude\u001b[0m\u001b[0;34m,\u001b[0m \u001b[0mlongitude\u001b[0m\u001b[0;34m,\u001b[0m \u001b[0mweight\u001b[0m\u001b[0;34m)\u001b[0m \u001b[0;32min\u001b[0m \u001b[0mdata\u001b[0m\u001b[0;34m:\u001b[0m\u001b[0;34m\u001b[0m\u001b[0m\n\u001b[1;32m     48\u001b[0m             \u001b[0;32mif\u001b[0m \u001b[0mweight\u001b[0m \u001b[0;34m<=\u001b[0m \u001b[0;36m0.0\u001b[0m\u001b[0;34m:\u001b[0m\u001b[0;34m\u001b[0m\u001b[0m\n\u001b[0;32m---> 49\u001b[0;31m                 \u001b[0;32mraise\u001b[0m \u001b[0mValueError\u001b[0m\u001b[0;34m(\u001b[0m\u001b[0;34m\"Google Maps only support positive weights.\"\u001b[0m\u001b[0;34m)\u001b[0m\u001b[0;34m\u001b[0m\u001b[0m\n\u001b[0m\u001b[1;32m     50\u001b[0m \u001b[0;34m\u001b[0m\u001b[0m\n\u001b[1;32m     51\u001b[0m     \u001b[0;32mdef\u001b[0m \u001b[0m_calc_bounds\u001b[0m\u001b[0;34m(\u001b[0m\u001b[0mself\u001b[0m\u001b[0;34m)\u001b[0m\u001b[0;34m:\u001b[0m\u001b[0;34m\u001b[0m\u001b[0m\n",
      "\u001b[0;31mValueError\u001b[0m: Google Maps only support positive weights."
     ]
    }
   ],
   "source": [
    "import gmaps\n",
    "\n",
    "geodata = data.as_matrix(columns=['LON','LAT','FLUX'])\n",
    "maps = gmaps.heatmap(geodata)\n",
    "gmaps.display(maps)\n",
    "geodata"
   ]
  },
  {
   "cell_type": "code",
   "execution_count": null,
   "metadata": {
    "collapsed": true
   },
   "outputs": [],
   "source": []
  }
 ],
 "metadata": {
  "kernelspec": {
   "display_name": "Python 3",
   "language": "python",
   "name": "python3"
  },
  "language_info": {
   "codemirror_mode": {
    "name": "ipython",
    "version": 3
   },
   "file_extension": ".py",
   "mimetype": "text/x-python",
   "name": "python",
   "nbconvert_exporter": "python",
   "pygments_lexer": "ipython3",
   "version": "3.5.1"
  }
 },
 "nbformat": 4,
 "nbformat_minor": 0
}
